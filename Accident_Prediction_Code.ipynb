{
 "cells": [
  {
   "cell_type": "code",
   "execution_count": 1,
   "source": [
    "import pandas as pd\n",
    "import seaborn as sns\n",
    "import matplotlib.pyplot as plt\n",
    "import numpy as np\n",
    "import janitor as jn\n",
    "import warnings\n",
    "warnings.filterwarnings('ignore')\n",
    "from sklearn.preprocessing import LabelEncoder\n",
    "from sklearn.ensemble import RandomForestRegressor, AdaBoostRegressor\n",
    "from sklearn.model_selection import train_test_split\n",
    "from sklearn.linear_model import LinearRegression"
   ],
   "outputs": [],
   "metadata": {}
  },
  {
   "cell_type": "markdown",
   "source": [
    "<strike>1. Check Columns Names (use janitor to fix it) </strike>\n",
    "\n",
    "<strike>2. Check for Data Types</strike>\n",
    "\n",
    "\n",
    "<strike>3. Check for data Imbalance</strike>\n",
    "\n",
    "<strike>4. Check for Missing Values</strike>\n",
    "\n",
    "<strike>5. Check for Bad Data (Age in negative)  </strike> None that I could think of at this point\n",
    "\n",
    "<strike> 6. Check for distribution type </strike>\n",
    "\n",
    "<strike> 7. Checks for outliers </strike>\n",
    "\n",
    "<strike> 8. Categorical Variable treatments </strike>\n",
    "\n",
    "9. Scaling the data\n",
    "\n",
    "<strike> 10. Imputation of Null values </strike>\n",
    "\n",
    "11. Perform necessary transformations\n",
    "12. Perform feature Engineering\n",
    "13. Binning Continuous data\n",
    "14. Feature selection"
   ],
   "metadata": {}
  },
  {
   "cell_type": "code",
   "execution_count": 2,
   "source": [
    "raw_data = pd.read_csv('../data/train.csv')\n",
    "test_data = pd.read_csv('../data/test.csv')"
   ],
   "outputs": [],
   "metadata": {}
  },
  {
   "cell_type": "code",
   "execution_count": 3,
   "source": [
    "raw_data.isnull().sum()"
   ],
   "outputs": [
    {
     "output_type": "execute_result",
     "data": {
      "text/plain": [
       "Accident_ID                                      0\n",
       "Police_Force                                     0\n",
       "Number_of_Vehicles                               0\n",
       "Number_of_Casualties                             0\n",
       "Date                                             0\n",
       "Day_of_Week                                      0\n",
       "Time                                            14\n",
       "Local_Authority_(District)                       0\n",
       "Local_Authority_(Highway)                        0\n",
       "1st_Road_Class                                   0\n",
       "1st_Road_Number                                  0\n",
       "Road_Type                                        0\n",
       "Speed_limit                                      0\n",
       "2nd_Road_Class                                   0\n",
       "2nd_Road_Number                                  0\n",
       "Pedestrian_Crossing-Human_Control                0\n",
       "Pedestrian_Crossing-Physical_Facilities          0\n",
       "Light_Conditions                                 0\n",
       "Weather_Conditions                               0\n",
       "Road_Surface_Conditions                        452\n",
       "Special_Conditions_at_Site                      63\n",
       "Carriageway_Hazards                              0\n",
       "Urban_or_Rural_Area                              0\n",
       "Did_Police_Officer_Attend_Scene_of_Accident      0\n",
       "state                                            0\n",
       "postcode                                         0\n",
       "country                                          0\n",
       "dtype: int64"
      ]
     },
     "metadata": {},
     "execution_count": 3
    }
   ],
   "metadata": {}
  },
  {
   "cell_type": "code",
   "execution_count": 48,
   "source": [
    "for i in raw_data.columns:\n",
    "    print(i)"
   ],
   "outputs": [
    {
     "output_type": "stream",
     "name": "stdout",
     "text": [
      "Accident_ID\n",
      "Police_Force\n",
      "Number_of_Vehicles\n",
      "Number_of_Casualties\n",
      "Date\n",
      "Day_of_Week\n",
      "Time\n",
      "Local_Authority_(District)\n",
      "Local_Authority_(Highway)\n",
      "1st_Road_Class\n",
      "1st_Road_Number\n",
      "Road_Type\n",
      "Speed_limit\n",
      "2nd_Road_Class\n",
      "2nd_Road_Number\n",
      "Pedestrian_Crossing-Human_Control\n",
      "Pedestrian_Crossing-Physical_Facilities\n",
      "Light_Conditions\n",
      "Weather_Conditions\n",
      "Road_Surface_Conditions\n",
      "Special_Conditions_at_Site\n",
      "Carriageway_Hazards\n",
      "Urban_or_Rural_Area\n",
      "Did_Police_Officer_Attend_Scene_of_Accident\n",
      "state\n",
      "postcode\n",
      "country\n"
     ]
    }
   ],
   "metadata": {}
  },
  {
   "cell_type": "code",
   "execution_count": 49,
   "source": [
    "len(raw_data)"
   ],
   "outputs": [
    {
     "output_type": "execute_result",
     "data": {
      "text/plain": [
       "478741"
      ]
     },
     "metadata": {},
     "execution_count": 49
    }
   ],
   "metadata": {}
  },
  {
   "cell_type": "code",
   "execution_count": 50,
   "source": [
    "len(test_data)"
   ],
   "outputs": [
    {
     "output_type": "execute_result",
     "data": {
      "text/plain": [
       "121259"
      ]
     },
     "metadata": {},
     "execution_count": 50
    }
   ],
   "metadata": {}
  },
  {
   "cell_type": "code",
   "execution_count": 51,
   "source": [
    "raw_data = jn.clean_names(raw_data)\n",
    "test_data = jn.clean_names(test_data)"
   ],
   "outputs": [],
   "metadata": {}
  },
  {
   "cell_type": "code",
   "execution_count": 52,
   "source": [
    "len(raw_data)"
   ],
   "outputs": [
    {
     "output_type": "execute_result",
     "data": {
      "text/plain": [
       "478741"
      ]
     },
     "metadata": {},
     "execution_count": 52
    }
   ],
   "metadata": {}
  },
  {
   "cell_type": "code",
   "execution_count": 53,
   "source": [
    "raw_data.isnull().sum()"
   ],
   "outputs": [
    {
     "output_type": "execute_result",
     "data": {
      "text/plain": [
       "accident_id                                      0\n",
       "police_force                                     0\n",
       "number_of_vehicles                               0\n",
       "number_of_casualties                             0\n",
       "date                                             0\n",
       "day_of_week                                      0\n",
       "time                                            14\n",
       "local_authority_district_                        0\n",
       "local_authority_highway_                         0\n",
       "1st_road_class                                   0\n",
       "1st_road_number                                  0\n",
       "road_type                                        0\n",
       "speed_limit                                      0\n",
       "2nd_road_class                                   0\n",
       "2nd_road_number                                  0\n",
       "pedestrian_crossing_human_control                0\n",
       "pedestrian_crossing_physical_facilities          0\n",
       "light_conditions                                 0\n",
       "weather_conditions                               0\n",
       "road_surface_conditions                        452\n",
       "special_conditions_at_site                      63\n",
       "carriageway_hazards                              0\n",
       "urban_or_rural_area                              0\n",
       "did_police_officer_attend_scene_of_accident      0\n",
       "state                                            0\n",
       "postcode                                         0\n",
       "country                                          0\n",
       "dtype: int64"
      ]
     },
     "metadata": {},
     "execution_count": 53
    }
   ],
   "metadata": {}
  },
  {
   "cell_type": "code",
   "execution_count": 54,
   "source": [
    "raw_data.dropna(axis=1).isnull().sum()"
   ],
   "outputs": [
    {
     "output_type": "execute_result",
     "data": {
      "text/plain": [
       "accident_id                                    0\n",
       "police_force                                   0\n",
       "number_of_vehicles                             0\n",
       "number_of_casualties                           0\n",
       "date                                           0\n",
       "day_of_week                                    0\n",
       "local_authority_district_                      0\n",
       "local_authority_highway_                       0\n",
       "1st_road_class                                 0\n",
       "1st_road_number                                0\n",
       "road_type                                      0\n",
       "speed_limit                                    0\n",
       "2nd_road_class                                 0\n",
       "2nd_road_number                                0\n",
       "pedestrian_crossing_human_control              0\n",
       "pedestrian_crossing_physical_facilities        0\n",
       "light_conditions                               0\n",
       "weather_conditions                             0\n",
       "carriageway_hazards                            0\n",
       "urban_or_rural_area                            0\n",
       "did_police_officer_attend_scene_of_accident    0\n",
       "state                                          0\n",
       "postcode                                       0\n",
       "country                                        0\n",
       "dtype: int64"
      ]
     },
     "metadata": {},
     "execution_count": 54
    }
   ],
   "metadata": {}
  },
  {
   "cell_type": "code",
   "execution_count": 55,
   "source": [
    "for i in raw_data.columns:\n",
    "    print(i)"
   ],
   "outputs": [
    {
     "output_type": "stream",
     "name": "stdout",
     "text": [
      "accident_id\n",
      "police_force\n",
      "number_of_vehicles\n",
      "number_of_casualties\n",
      "date\n",
      "day_of_week\n",
      "time\n",
      "local_authority_district_\n",
      "local_authority_highway_\n",
      "1st_road_class\n",
      "1st_road_number\n",
      "road_type\n",
      "speed_limit\n",
      "2nd_road_class\n",
      "2nd_road_number\n",
      "pedestrian_crossing_human_control\n",
      "pedestrian_crossing_physical_facilities\n",
      "light_conditions\n",
      "weather_conditions\n",
      "road_surface_conditions\n",
      "special_conditions_at_site\n",
      "carriageway_hazards\n",
      "urban_or_rural_area\n",
      "did_police_officer_attend_scene_of_accident\n",
      "state\n",
      "postcode\n",
      "country\n"
     ]
    }
   ],
   "metadata": {}
  },
  {
   "cell_type": "code",
   "execution_count": 56,
   "source": [
    "raw_data.head()"
   ],
   "outputs": [
    {
     "output_type": "execute_result",
     "data": {
      "text/html": [
       "<div>\n",
       "<style scoped>\n",
       "    .dataframe tbody tr th:only-of-type {\n",
       "        vertical-align: middle;\n",
       "    }\n",
       "\n",
       "    .dataframe tbody tr th {\n",
       "        vertical-align: top;\n",
       "    }\n",
       "\n",
       "    .dataframe thead th {\n",
       "        text-align: right;\n",
       "    }\n",
       "</style>\n",
       "<table border=\"1\" class=\"dataframe\">\n",
       "  <thead>\n",
       "    <tr style=\"text-align: right;\">\n",
       "      <th></th>\n",
       "      <th>accident_id</th>\n",
       "      <th>police_force</th>\n",
       "      <th>number_of_vehicles</th>\n",
       "      <th>number_of_casualties</th>\n",
       "      <th>date</th>\n",
       "      <th>day_of_week</th>\n",
       "      <th>time</th>\n",
       "      <th>local_authority_district_</th>\n",
       "      <th>local_authority_highway_</th>\n",
       "      <th>1st_road_class</th>\n",
       "      <th>1st_road_number</th>\n",
       "      <th>road_type</th>\n",
       "      <th>speed_limit</th>\n",
       "      <th>2nd_road_class</th>\n",
       "      <th>2nd_road_number</th>\n",
       "      <th>pedestrian_crossing_human_control</th>\n",
       "      <th>pedestrian_crossing_physical_facilities</th>\n",
       "      <th>light_conditions</th>\n",
       "      <th>weather_conditions</th>\n",
       "      <th>road_surface_conditions</th>\n",
       "      <th>special_conditions_at_site</th>\n",
       "      <th>carriageway_hazards</th>\n",
       "      <th>urban_or_rural_area</th>\n",
       "      <th>did_police_officer_attend_scene_of_accident</th>\n",
       "      <th>state</th>\n",
       "      <th>postcode</th>\n",
       "      <th>country</th>\n",
       "    </tr>\n",
       "  </thead>\n",
       "  <tbody>\n",
       "    <tr>\n",
       "      <th>0</th>\n",
       "      <td>1</td>\n",
       "      <td>34</td>\n",
       "      <td>2</td>\n",
       "      <td>1</td>\n",
       "      <td>19/12/12</td>\n",
       "      <td>7</td>\n",
       "      <td>13:20</td>\n",
       "      <td>344</td>\n",
       "      <td>E10000032</td>\n",
       "      <td>4</td>\n",
       "      <td>395</td>\n",
       "      <td>Single carriageway</td>\n",
       "      <td>30</td>\n",
       "      <td>-1</td>\n",
       "      <td>0</td>\n",
       "      <td>None within 50 metres</td>\n",
       "      <td>No physical crossing within 50 meters</td>\n",
       "      <td>Daylight: Street light present</td>\n",
       "      <td>Fine without high winds</td>\n",
       "      <td>Dry</td>\n",
       "      <td>Ol or diesel</td>\n",
       "      <td>None</td>\n",
       "      <td>1</td>\n",
       "      <td>Yes</td>\n",
       "      <td>England</td>\n",
       "      <td>OX3 9UP</td>\n",
       "      <td>United Kingdom</td>\n",
       "    </tr>\n",
       "    <tr>\n",
       "      <th>1</th>\n",
       "      <td>2</td>\n",
       "      <td>5</td>\n",
       "      <td>2</td>\n",
       "      <td>1</td>\n",
       "      <td>02/11/12</td>\n",
       "      <td>4</td>\n",
       "      <td>7:53</td>\n",
       "      <td>102</td>\n",
       "      <td>E09000026</td>\n",
       "      <td>3</td>\n",
       "      <td>13</td>\n",
       "      <td>One way street</td>\n",
       "      <td>30</td>\n",
       "      <td>-1</td>\n",
       "      <td>0</td>\n",
       "      <td>None within 50 metres</td>\n",
       "      <td>No physical crossing within 50 meters</td>\n",
       "      <td>Daylight: Street light present</td>\n",
       "      <td>Raining without high winds</td>\n",
       "      <td>Dry</td>\n",
       "      <td>None</td>\n",
       "      <td>None</td>\n",
       "      <td>1</td>\n",
       "      <td>No</td>\n",
       "      <td>England</td>\n",
       "      <td>S35 4EZ</td>\n",
       "      <td>United Kingdom</td>\n",
       "    </tr>\n",
       "    <tr>\n",
       "      <th>2</th>\n",
       "      <td>3</td>\n",
       "      <td>1</td>\n",
       "      <td>2</td>\n",
       "      <td>1</td>\n",
       "      <td>02/11/12</td>\n",
       "      <td>4</td>\n",
       "      <td>16:00</td>\n",
       "      <td>531</td>\n",
       "      <td>E10000016</td>\n",
       "      <td>6</td>\n",
       "      <td>8</td>\n",
       "      <td>Roundabout</td>\n",
       "      <td>40</td>\n",
       "      <td>6</td>\n",
       "      <td>0</td>\n",
       "      <td>None within 50 metres</td>\n",
       "      <td>Zebra crossing</td>\n",
       "      <td>Daylight: Street light present</td>\n",
       "      <td>Fine without high winds</td>\n",
       "      <td>Dry</td>\n",
       "      <td>None</td>\n",
       "      <td>None</td>\n",
       "      <td>1</td>\n",
       "      <td>No</td>\n",
       "      <td>England</td>\n",
       "      <td>BN21 2XR</td>\n",
       "      <td>United Kingdom</td>\n",
       "    </tr>\n",
       "    <tr>\n",
       "      <th>3</th>\n",
       "      <td>4</td>\n",
       "      <td>1</td>\n",
       "      <td>1</td>\n",
       "      <td>1</td>\n",
       "      <td>06/05/12</td>\n",
       "      <td>1</td>\n",
       "      <td>16:50</td>\n",
       "      <td>7</td>\n",
       "      <td>E08000035</td>\n",
       "      <td>6</td>\n",
       "      <td>13</td>\n",
       "      <td>Single carriageway</td>\n",
       "      <td>30</td>\n",
       "      <td>6</td>\n",
       "      <td>0</td>\n",
       "      <td>None within 50 metres</td>\n",
       "      <td>No physical crossing within 50 meters</td>\n",
       "      <td>Daylight: Street light present</td>\n",
       "      <td>Fine without high winds</td>\n",
       "      <td>Dry</td>\n",
       "      <td>Roadworks</td>\n",
       "      <td>None</td>\n",
       "      <td>1</td>\n",
       "      <td>Yes</td>\n",
       "      <td>England</td>\n",
       "      <td>TA20 3PT</td>\n",
       "      <td>United Kingdom</td>\n",
       "    </tr>\n",
       "    <tr>\n",
       "      <th>4</th>\n",
       "      <td>5</td>\n",
       "      <td>46</td>\n",
       "      <td>1</td>\n",
       "      <td>1</td>\n",
       "      <td>30/06/12</td>\n",
       "      <td>3</td>\n",
       "      <td>13:25</td>\n",
       "      <td>519</td>\n",
       "      <td>E10000031</td>\n",
       "      <td>3</td>\n",
       "      <td>24</td>\n",
       "      <td>Dual carriageway</td>\n",
       "      <td>30</td>\n",
       "      <td>6</td>\n",
       "      <td>0</td>\n",
       "      <td>None within 50 metres</td>\n",
       "      <td>Zebra crossing</td>\n",
       "      <td>Daylight: Street light present</td>\n",
       "      <td>Fine without high winds</td>\n",
       "      <td>Dry</td>\n",
       "      <td>None</td>\n",
       "      <td>None</td>\n",
       "      <td>1</td>\n",
       "      <td>No</td>\n",
       "      <td>England</td>\n",
       "      <td>DN20 0QF</td>\n",
       "      <td>United Kingdom</td>\n",
       "    </tr>\n",
       "  </tbody>\n",
       "</table>\n",
       "</div>"
      ],
      "text/plain": [
       "   accident_id  police_force  number_of_vehicles  number_of_casualties  \\\n",
       "0            1            34                   2                     1   \n",
       "1            2             5                   2                     1   \n",
       "2            3             1                   2                     1   \n",
       "3            4             1                   1                     1   \n",
       "4            5            46                   1                     1   \n",
       "\n",
       "       date  day_of_week   time  local_authority_district_  \\\n",
       "0  19/12/12            7  13:20                        344   \n",
       "1  02/11/12            4   7:53                        102   \n",
       "2  02/11/12            4  16:00                        531   \n",
       "3  06/05/12            1  16:50                          7   \n",
       "4  30/06/12            3  13:25                        519   \n",
       "\n",
       "  local_authority_highway_  1st_road_class  1st_road_number  \\\n",
       "0                E10000032               4              395   \n",
       "1                E09000026               3               13   \n",
       "2                E10000016               6                8   \n",
       "3                E08000035               6               13   \n",
       "4                E10000031               3               24   \n",
       "\n",
       "            road_type  speed_limit  2nd_road_class  2nd_road_number  \\\n",
       "0  Single carriageway           30              -1                0   \n",
       "1      One way street           30              -1                0   \n",
       "2          Roundabout           40               6                0   \n",
       "3  Single carriageway           30               6                0   \n",
       "4    Dual carriageway           30               6                0   \n",
       "\n",
       "  pedestrian_crossing_human_control pedestrian_crossing_physical_facilities  \\\n",
       "0             None within 50 metres   No physical crossing within 50 meters   \n",
       "1             None within 50 metres   No physical crossing within 50 meters   \n",
       "2             None within 50 metres                          Zebra crossing   \n",
       "3             None within 50 metres   No physical crossing within 50 meters   \n",
       "4             None within 50 metres                          Zebra crossing   \n",
       "\n",
       "                 light_conditions          weather_conditions  \\\n",
       "0  Daylight: Street light present     Fine without high winds   \n",
       "1  Daylight: Street light present  Raining without high winds   \n",
       "2  Daylight: Street light present     Fine without high winds   \n",
       "3  Daylight: Street light present     Fine without high winds   \n",
       "4  Daylight: Street light present     Fine without high winds   \n",
       "\n",
       "  road_surface_conditions special_conditions_at_site carriageway_hazards  \\\n",
       "0                     Dry               Ol or diesel                None   \n",
       "1                     Dry                       None                None   \n",
       "2                     Dry                       None                None   \n",
       "3                     Dry                  Roadworks                None   \n",
       "4                     Dry                       None                None   \n",
       "\n",
       "   urban_or_rural_area did_police_officer_attend_scene_of_accident    state  \\\n",
       "0                    1                                         Yes  England   \n",
       "1                    1                                          No  England   \n",
       "2                    1                                          No  England   \n",
       "3                    1                                         Yes  England   \n",
       "4                    1                                          No  England   \n",
       "\n",
       "   postcode         country  \n",
       "0   OX3 9UP  United Kingdom  \n",
       "1   S35 4EZ  United Kingdom  \n",
       "2  BN21 2XR  United Kingdom  \n",
       "3  TA20 3PT  United Kingdom  \n",
       "4  DN20 0QF  United Kingdom  "
      ]
     },
     "metadata": {},
     "execution_count": 56
    }
   ],
   "metadata": {}
  },
  {
   "cell_type": "code",
   "execution_count": 57,
   "source": [
    "raw_data.describe().T"
   ],
   "outputs": [
    {
     "output_type": "execute_result",
     "data": {
      "text/html": [
       "<div>\n",
       "<style scoped>\n",
       "    .dataframe tbody tr th:only-of-type {\n",
       "        vertical-align: middle;\n",
       "    }\n",
       "\n",
       "    .dataframe tbody tr th {\n",
       "        vertical-align: top;\n",
       "    }\n",
       "\n",
       "    .dataframe thead th {\n",
       "        text-align: right;\n",
       "    }\n",
       "</style>\n",
       "<table border=\"1\" class=\"dataframe\">\n",
       "  <thead>\n",
       "    <tr style=\"text-align: right;\">\n",
       "      <th></th>\n",
       "      <th>count</th>\n",
       "      <th>mean</th>\n",
       "      <th>std</th>\n",
       "      <th>min</th>\n",
       "      <th>25%</th>\n",
       "      <th>50%</th>\n",
       "      <th>75%</th>\n",
       "      <th>max</th>\n",
       "    </tr>\n",
       "  </thead>\n",
       "  <tbody>\n",
       "    <tr>\n",
       "      <th>accident_id</th>\n",
       "      <td>478741.0</td>\n",
       "      <td>299892.954673</td>\n",
       "      <td>173261.274950</td>\n",
       "      <td>1.0</td>\n",
       "      <td>149718.0</td>\n",
       "      <td>299791.0</td>\n",
       "      <td>449990.0</td>\n",
       "      <td>599999.0</td>\n",
       "    </tr>\n",
       "    <tr>\n",
       "      <th>police_force</th>\n",
       "      <td>478741.0</td>\n",
       "      <td>31.610178</td>\n",
       "      <td>24.941660</td>\n",
       "      <td>1.0</td>\n",
       "      <td>12.0</td>\n",
       "      <td>33.0</td>\n",
       "      <td>45.0</td>\n",
       "      <td>98.0</td>\n",
       "    </tr>\n",
       "    <tr>\n",
       "      <th>number_of_vehicles</th>\n",
       "      <td>478741.0</td>\n",
       "      <td>1.745695</td>\n",
       "      <td>0.626458</td>\n",
       "      <td>1.0</td>\n",
       "      <td>1.0</td>\n",
       "      <td>2.0</td>\n",
       "      <td>2.0</td>\n",
       "      <td>4.0</td>\n",
       "    </tr>\n",
       "    <tr>\n",
       "      <th>number_of_casualties</th>\n",
       "      <td>478741.0</td>\n",
       "      <td>1.463528</td>\n",
       "      <td>0.816019</td>\n",
       "      <td>1.0</td>\n",
       "      <td>1.0</td>\n",
       "      <td>1.0</td>\n",
       "      <td>2.0</td>\n",
       "      <td>5.0</td>\n",
       "    </tr>\n",
       "    <tr>\n",
       "      <th>day_of_week</th>\n",
       "      <td>478741.0</td>\n",
       "      <td>4.367898</td>\n",
       "      <td>1.872983</td>\n",
       "      <td>1.0</td>\n",
       "      <td>3.0</td>\n",
       "      <td>5.0</td>\n",
       "      <td>6.0</td>\n",
       "      <td>7.0</td>\n",
       "    </tr>\n",
       "    <tr>\n",
       "      <th>local_authority_district_</th>\n",
       "      <td>478741.0</td>\n",
       "      <td>357.457132</td>\n",
       "      <td>256.530105</td>\n",
       "      <td>1.0</td>\n",
       "      <td>103.0</td>\n",
       "      <td>314.0</td>\n",
       "      <td>521.0</td>\n",
       "      <td>941.0</td>\n",
       "    </tr>\n",
       "    <tr>\n",
       "      <th>1st_road_class</th>\n",
       "      <td>478741.0</td>\n",
       "      <td>4.381542</td>\n",
       "      <td>1.369579</td>\n",
       "      <td>1.0</td>\n",
       "      <td>3.0</td>\n",
       "      <td>4.0</td>\n",
       "      <td>6.0</td>\n",
       "      <td>6.0</td>\n",
       "    </tr>\n",
       "    <tr>\n",
       "      <th>1st_road_number</th>\n",
       "      <td>478741.0</td>\n",
       "      <td>946.663375</td>\n",
       "      <td>1730.926876</td>\n",
       "      <td>0.0</td>\n",
       "      <td>10.0</td>\n",
       "      <td>336.0</td>\n",
       "      <td>569.0</td>\n",
       "      <td>9832.0</td>\n",
       "    </tr>\n",
       "    <tr>\n",
       "      <th>speed_limit</th>\n",
       "      <td>478741.0</td>\n",
       "      <td>37.035976</td>\n",
       "      <td>12.854299</td>\n",
       "      <td>20.0</td>\n",
       "      <td>30.0</td>\n",
       "      <td>30.0</td>\n",
       "      <td>40.0</td>\n",
       "      <td>70.0</td>\n",
       "    </tr>\n",
       "    <tr>\n",
       "      <th>2nd_road_class</th>\n",
       "      <td>478741.0</td>\n",
       "      <td>2.430068</td>\n",
       "      <td>3.268563</td>\n",
       "      <td>-1.0</td>\n",
       "      <td>-1.0</td>\n",
       "      <td>3.0</td>\n",
       "      <td>6.0</td>\n",
       "      <td>6.0</td>\n",
       "    </tr>\n",
       "    <tr>\n",
       "      <th>2nd_road_number</th>\n",
       "      <td>478741.0</td>\n",
       "      <td>0.000000</td>\n",
       "      <td>0.000000</td>\n",
       "      <td>0.0</td>\n",
       "      <td>0.0</td>\n",
       "      <td>0.0</td>\n",
       "      <td>0.0</td>\n",
       "      <td>0.0</td>\n",
       "    </tr>\n",
       "    <tr>\n",
       "      <th>urban_or_rural_area</th>\n",
       "      <td>478741.0</td>\n",
       "      <td>1.402050</td>\n",
       "      <td>0.490313</td>\n",
       "      <td>1.0</td>\n",
       "      <td>1.0</td>\n",
       "      <td>1.0</td>\n",
       "      <td>2.0</td>\n",
       "      <td>2.0</td>\n",
       "    </tr>\n",
       "  </tbody>\n",
       "</table>\n",
       "</div>"
      ],
      "text/plain": [
       "                              count           mean            std   min  \\\n",
       "accident_id                478741.0  299892.954673  173261.274950   1.0   \n",
       "police_force               478741.0      31.610178      24.941660   1.0   \n",
       "number_of_vehicles         478741.0       1.745695       0.626458   1.0   \n",
       "number_of_casualties       478741.0       1.463528       0.816019   1.0   \n",
       "day_of_week                478741.0       4.367898       1.872983   1.0   \n",
       "local_authority_district_  478741.0     357.457132     256.530105   1.0   \n",
       "1st_road_class             478741.0       4.381542       1.369579   1.0   \n",
       "1st_road_number            478741.0     946.663375    1730.926876   0.0   \n",
       "speed_limit                478741.0      37.035976      12.854299  20.0   \n",
       "2nd_road_class             478741.0       2.430068       3.268563  -1.0   \n",
       "2nd_road_number            478741.0       0.000000       0.000000   0.0   \n",
       "urban_or_rural_area        478741.0       1.402050       0.490313   1.0   \n",
       "\n",
       "                                25%       50%       75%       max  \n",
       "accident_id                149718.0  299791.0  449990.0  599999.0  \n",
       "police_force                   12.0      33.0      45.0      98.0  \n",
       "number_of_vehicles              1.0       2.0       2.0       4.0  \n",
       "number_of_casualties            1.0       1.0       2.0       5.0  \n",
       "day_of_week                     3.0       5.0       6.0       7.0  \n",
       "local_authority_district_     103.0     314.0     521.0     941.0  \n",
       "1st_road_class                  3.0       4.0       6.0       6.0  \n",
       "1st_road_number                10.0     336.0     569.0    9832.0  \n",
       "speed_limit                    30.0      30.0      40.0      70.0  \n",
       "2nd_road_class                 -1.0       3.0       6.0       6.0  \n",
       "2nd_road_number                 0.0       0.0       0.0       0.0  \n",
       "urban_or_rural_area             1.0       1.0       2.0       2.0  "
      ]
     },
     "metadata": {},
     "execution_count": 57
    }
   ],
   "metadata": {}
  },
  {
   "cell_type": "code",
   "execution_count": 58,
   "source": [
    "raw_data.head(1).T"
   ],
   "outputs": [
    {
     "output_type": "execute_result",
     "data": {
      "text/html": [
       "<div>\n",
       "<style scoped>\n",
       "    .dataframe tbody tr th:only-of-type {\n",
       "        vertical-align: middle;\n",
       "    }\n",
       "\n",
       "    .dataframe tbody tr th {\n",
       "        vertical-align: top;\n",
       "    }\n",
       "\n",
       "    .dataframe thead th {\n",
       "        text-align: right;\n",
       "    }\n",
       "</style>\n",
       "<table border=\"1\" class=\"dataframe\">\n",
       "  <thead>\n",
       "    <tr style=\"text-align: right;\">\n",
       "      <th></th>\n",
       "      <th>0</th>\n",
       "    </tr>\n",
       "  </thead>\n",
       "  <tbody>\n",
       "    <tr>\n",
       "      <th>accident_id</th>\n",
       "      <td>1</td>\n",
       "    </tr>\n",
       "    <tr>\n",
       "      <th>police_force</th>\n",
       "      <td>34</td>\n",
       "    </tr>\n",
       "    <tr>\n",
       "      <th>number_of_vehicles</th>\n",
       "      <td>2</td>\n",
       "    </tr>\n",
       "    <tr>\n",
       "      <th>number_of_casualties</th>\n",
       "      <td>1</td>\n",
       "    </tr>\n",
       "    <tr>\n",
       "      <th>date</th>\n",
       "      <td>19/12/12</td>\n",
       "    </tr>\n",
       "    <tr>\n",
       "      <th>day_of_week</th>\n",
       "      <td>7</td>\n",
       "    </tr>\n",
       "    <tr>\n",
       "      <th>time</th>\n",
       "      <td>13:20</td>\n",
       "    </tr>\n",
       "    <tr>\n",
       "      <th>local_authority_district_</th>\n",
       "      <td>344</td>\n",
       "    </tr>\n",
       "    <tr>\n",
       "      <th>local_authority_highway_</th>\n",
       "      <td>E10000032</td>\n",
       "    </tr>\n",
       "    <tr>\n",
       "      <th>1st_road_class</th>\n",
       "      <td>4</td>\n",
       "    </tr>\n",
       "    <tr>\n",
       "      <th>1st_road_number</th>\n",
       "      <td>395</td>\n",
       "    </tr>\n",
       "    <tr>\n",
       "      <th>road_type</th>\n",
       "      <td>Single carriageway</td>\n",
       "    </tr>\n",
       "    <tr>\n",
       "      <th>speed_limit</th>\n",
       "      <td>30</td>\n",
       "    </tr>\n",
       "    <tr>\n",
       "      <th>2nd_road_class</th>\n",
       "      <td>-1</td>\n",
       "    </tr>\n",
       "    <tr>\n",
       "      <th>2nd_road_number</th>\n",
       "      <td>0</td>\n",
       "    </tr>\n",
       "    <tr>\n",
       "      <th>pedestrian_crossing_human_control</th>\n",
       "      <td>None within 50 metres</td>\n",
       "    </tr>\n",
       "    <tr>\n",
       "      <th>pedestrian_crossing_physical_facilities</th>\n",
       "      <td>No physical crossing within 50 meters</td>\n",
       "    </tr>\n",
       "    <tr>\n",
       "      <th>light_conditions</th>\n",
       "      <td>Daylight: Street light present</td>\n",
       "    </tr>\n",
       "    <tr>\n",
       "      <th>weather_conditions</th>\n",
       "      <td>Fine without high winds</td>\n",
       "    </tr>\n",
       "    <tr>\n",
       "      <th>road_surface_conditions</th>\n",
       "      <td>Dry</td>\n",
       "    </tr>\n",
       "    <tr>\n",
       "      <th>special_conditions_at_site</th>\n",
       "      <td>Ol or diesel</td>\n",
       "    </tr>\n",
       "    <tr>\n",
       "      <th>carriageway_hazards</th>\n",
       "      <td>None</td>\n",
       "    </tr>\n",
       "    <tr>\n",
       "      <th>urban_or_rural_area</th>\n",
       "      <td>1</td>\n",
       "    </tr>\n",
       "    <tr>\n",
       "      <th>did_police_officer_attend_scene_of_accident</th>\n",
       "      <td>Yes</td>\n",
       "    </tr>\n",
       "    <tr>\n",
       "      <th>state</th>\n",
       "      <td>England</td>\n",
       "    </tr>\n",
       "    <tr>\n",
       "      <th>postcode</th>\n",
       "      <td>OX3 9UP</td>\n",
       "    </tr>\n",
       "    <tr>\n",
       "      <th>country</th>\n",
       "      <td>United Kingdom</td>\n",
       "    </tr>\n",
       "  </tbody>\n",
       "</table>\n",
       "</div>"
      ],
      "text/plain": [
       "                                                                                 0\n",
       "accident_id                                                                      1\n",
       "police_force                                                                    34\n",
       "number_of_vehicles                                                               2\n",
       "number_of_casualties                                                             1\n",
       "date                                                                      19/12/12\n",
       "day_of_week                                                                      7\n",
       "time                                                                         13:20\n",
       "local_authority_district_                                                      344\n",
       "local_authority_highway_                                                 E10000032\n",
       "1st_road_class                                                                   4\n",
       "1st_road_number                                                                395\n",
       "road_type                                                       Single carriageway\n",
       "speed_limit                                                                     30\n",
       "2nd_road_class                                                                  -1\n",
       "2nd_road_number                                                                  0\n",
       "pedestrian_crossing_human_control                            None within 50 metres\n",
       "pedestrian_crossing_physical_facilities      No physical crossing within 50 meters\n",
       "light_conditions                                    Daylight: Street light present\n",
       "weather_conditions                                         Fine without high winds\n",
       "road_surface_conditions                                                        Dry\n",
       "special_conditions_at_site                                            Ol or diesel\n",
       "carriageway_hazards                                                           None\n",
       "urban_or_rural_area                                                              1\n",
       "did_police_officer_attend_scene_of_accident                                    Yes\n",
       "state                                                                      England\n",
       "postcode                                                                   OX3 9UP\n",
       "country                                                             United Kingdom"
      ]
     },
     "metadata": {},
     "execution_count": 58
    }
   ],
   "metadata": {}
  },
  {
   "cell_type": "markdown",
   "source": [
    "## Hypothesis\n",
    "\n",
    "\n",
    "1. Number of Vehicles incresases the # of casualties.\n",
    "2. Day of week, week days due to busy days may lead to lot of accidents/casualities.\n",
    "3. date and time are sepereate columns, the time can be intresting since most accident can happen between certain time.\n",
    "4. speed limit can infulence the number of casualties.\n",
    "5. road_type can have an effect (hair pin --> more accidents--> more casualities)\n",
    "6. light_conditions dimlight may affect the driver and inturn lead to accident.\n",
    "7. weather_conditions, rainy conditions can lead to accidents.\n",
    "8. road_surface_conditions may lead to some mishaps\n",
    "9. special_conditions_at_site (will need to look at the conditions before using it for decision making)\n",
    "10. carriageway_hazards may have an infulence on the accident.\n",
    "11. urban_or_rural_area, rural areas less traffic!\n",
    "12. did_police_officer_attend_scene_of_accident could save life can be intersting to explore from data what the affects are \n",
    "13. postcode lets see if it helps\n",
    "    \n",
    "<br> </br>\n",
    "<br>Need to explore the variables to make any hypothesis</br>\n",
    "\n",
    "1.  1st_road_class, 1st_road_number, 2nd_road_number, 2nd_road_number not sure what these are and how to get a sense of them.\n",
    "2.  Police Force not sure what this variable itself is at this point in project.\n",
    "3.  urban_or_rural_area not sure what this is.\n",
    "4.  local_authority_district_, local_authority_highway_ not sure what these are.\n",
    "5.  pedestrian_crossing_human_control, pedestrian_crossing_physical_facilities  not sure how to deal with this.\n",
    "   \n",
    "<br> </br>\n",
    "<br>Not useful for analysis</br>\n",
    "\n",
    "1.  state, accident_id, country seem to be unique."
   ],
   "metadata": {}
  },
  {
   "cell_type": "code",
   "execution_count": 59,
   "source": [
    "raw_data.head(1).T"
   ],
   "outputs": [
    {
     "output_type": "execute_result",
     "data": {
      "text/html": [
       "<div>\n",
       "<style scoped>\n",
       "    .dataframe tbody tr th:only-of-type {\n",
       "        vertical-align: middle;\n",
       "    }\n",
       "\n",
       "    .dataframe tbody tr th {\n",
       "        vertical-align: top;\n",
       "    }\n",
       "\n",
       "    .dataframe thead th {\n",
       "        text-align: right;\n",
       "    }\n",
       "</style>\n",
       "<table border=\"1\" class=\"dataframe\">\n",
       "  <thead>\n",
       "    <tr style=\"text-align: right;\">\n",
       "      <th></th>\n",
       "      <th>0</th>\n",
       "    </tr>\n",
       "  </thead>\n",
       "  <tbody>\n",
       "    <tr>\n",
       "      <th>accident_id</th>\n",
       "      <td>1</td>\n",
       "    </tr>\n",
       "    <tr>\n",
       "      <th>police_force</th>\n",
       "      <td>34</td>\n",
       "    </tr>\n",
       "    <tr>\n",
       "      <th>number_of_vehicles</th>\n",
       "      <td>2</td>\n",
       "    </tr>\n",
       "    <tr>\n",
       "      <th>number_of_casualties</th>\n",
       "      <td>1</td>\n",
       "    </tr>\n",
       "    <tr>\n",
       "      <th>date</th>\n",
       "      <td>19/12/12</td>\n",
       "    </tr>\n",
       "    <tr>\n",
       "      <th>day_of_week</th>\n",
       "      <td>7</td>\n",
       "    </tr>\n",
       "    <tr>\n",
       "      <th>time</th>\n",
       "      <td>13:20</td>\n",
       "    </tr>\n",
       "    <tr>\n",
       "      <th>local_authority_district_</th>\n",
       "      <td>344</td>\n",
       "    </tr>\n",
       "    <tr>\n",
       "      <th>local_authority_highway_</th>\n",
       "      <td>E10000032</td>\n",
       "    </tr>\n",
       "    <tr>\n",
       "      <th>1st_road_class</th>\n",
       "      <td>4</td>\n",
       "    </tr>\n",
       "    <tr>\n",
       "      <th>1st_road_number</th>\n",
       "      <td>395</td>\n",
       "    </tr>\n",
       "    <tr>\n",
       "      <th>road_type</th>\n",
       "      <td>Single carriageway</td>\n",
       "    </tr>\n",
       "    <tr>\n",
       "      <th>speed_limit</th>\n",
       "      <td>30</td>\n",
       "    </tr>\n",
       "    <tr>\n",
       "      <th>2nd_road_class</th>\n",
       "      <td>-1</td>\n",
       "    </tr>\n",
       "    <tr>\n",
       "      <th>2nd_road_number</th>\n",
       "      <td>0</td>\n",
       "    </tr>\n",
       "    <tr>\n",
       "      <th>pedestrian_crossing_human_control</th>\n",
       "      <td>None within 50 metres</td>\n",
       "    </tr>\n",
       "    <tr>\n",
       "      <th>pedestrian_crossing_physical_facilities</th>\n",
       "      <td>No physical crossing within 50 meters</td>\n",
       "    </tr>\n",
       "    <tr>\n",
       "      <th>light_conditions</th>\n",
       "      <td>Daylight: Street light present</td>\n",
       "    </tr>\n",
       "    <tr>\n",
       "      <th>weather_conditions</th>\n",
       "      <td>Fine without high winds</td>\n",
       "    </tr>\n",
       "    <tr>\n",
       "      <th>road_surface_conditions</th>\n",
       "      <td>Dry</td>\n",
       "    </tr>\n",
       "    <tr>\n",
       "      <th>special_conditions_at_site</th>\n",
       "      <td>Ol or diesel</td>\n",
       "    </tr>\n",
       "    <tr>\n",
       "      <th>carriageway_hazards</th>\n",
       "      <td>None</td>\n",
       "    </tr>\n",
       "    <tr>\n",
       "      <th>urban_or_rural_area</th>\n",
       "      <td>1</td>\n",
       "    </tr>\n",
       "    <tr>\n",
       "      <th>did_police_officer_attend_scene_of_accident</th>\n",
       "      <td>Yes</td>\n",
       "    </tr>\n",
       "    <tr>\n",
       "      <th>state</th>\n",
       "      <td>England</td>\n",
       "    </tr>\n",
       "    <tr>\n",
       "      <th>postcode</th>\n",
       "      <td>OX3 9UP</td>\n",
       "    </tr>\n",
       "    <tr>\n",
       "      <th>country</th>\n",
       "      <td>United Kingdom</td>\n",
       "    </tr>\n",
       "  </tbody>\n",
       "</table>\n",
       "</div>"
      ],
      "text/plain": [
       "                                                                                 0\n",
       "accident_id                                                                      1\n",
       "police_force                                                                    34\n",
       "number_of_vehicles                                                               2\n",
       "number_of_casualties                                                             1\n",
       "date                                                                      19/12/12\n",
       "day_of_week                                                                      7\n",
       "time                                                                         13:20\n",
       "local_authority_district_                                                      344\n",
       "local_authority_highway_                                                 E10000032\n",
       "1st_road_class                                                                   4\n",
       "1st_road_number                                                                395\n",
       "road_type                                                       Single carriageway\n",
       "speed_limit                                                                     30\n",
       "2nd_road_class                                                                  -1\n",
       "2nd_road_number                                                                  0\n",
       "pedestrian_crossing_human_control                            None within 50 metres\n",
       "pedestrian_crossing_physical_facilities      No physical crossing within 50 meters\n",
       "light_conditions                                    Daylight: Street light present\n",
       "weather_conditions                                         Fine without high winds\n",
       "road_surface_conditions                                                        Dry\n",
       "special_conditions_at_site                                            Ol or diesel\n",
       "carriageway_hazards                                                           None\n",
       "urban_or_rural_area                                                              1\n",
       "did_police_officer_attend_scene_of_accident                                    Yes\n",
       "state                                                                      England\n",
       "postcode                                                                   OX3 9UP\n",
       "country                                                             United Kingdom"
      ]
     },
     "metadata": {},
     "execution_count": 59
    }
   ],
   "metadata": {}
  },
  {
   "cell_type": "code",
   "execution_count": 60,
   "source": [
    "#sns.histplot(raw_data['police_force'])\n",
    "#raw_data['number_of_vehicles'].value_counts()\n",
    "#sns.histplot(raw_data['number_of_casualties'])\n",
    "#raw_data['number_of_casualties'].value_counts()\n",
    "#sns.histplot(raw_data['local_authority_district_'])\n",
    "#sns.histplot(raw_data['local_authority_highway_'])\n",
    "#raw_data['1st_road_class'].value_counts()\n",
    "#sns.histplot(['1st_road_number'])\n",
    "#raw_data['road_type'].value_counts()\n",
    "#raw_data['speed_limit'].value_counts()\n",
    "#raw_data['2nd_road_class'].value_counts()\n",
    "#raw_data['2nd_road_number'].value_counts()\n",
    "#raw_data['pedestrian_crossing_physical_facilities'].value_counts()\n",
    "#raw_data['country'].value_counts()"
   ],
   "outputs": [],
   "metadata": {}
  },
  {
   "cell_type": "code",
   "execution_count": 61,
   "source": [
    "## Data Types\n",
    "\n",
    "cat_col = ['number_of_vehicles', 'day_of_week', '1st_road_class', 'road_type', 'speed_limit', '2nd_road_class', \n",
    "            'pedestrian_crossing_human_control', 'pedestrian_crossing_physical_facilities', 'light_conditions',\n",
    "            'weather_conditions', 'road_surface_conditions', 'special_conditions_at_site',\n",
    "            'carriageway_hazards', 'urban_or_rural_area', 'did_police_officer_attend_scene_of_accident',\n",
    "            'state', 'local_authority_highway_' ,'postcode']\n",
    "\n",
    "num_col = ['police_force', 'local_authority_district_',]\n",
    "\n",
    "dat_col = ['date', 'day_of_week', 'time']\n",
    "\n",
    "drp_col = ['1st_road_number', '2nd_road_number', 'country', 'accident_id']"
   ],
   "outputs": [],
   "metadata": {}
  },
  {
   "cell_type": "markdown",
   "source": [
    "## Data Dictionary:\n",
    "\n",
    "Numeric\n",
    "1. police_force\n",
    "2. local_authority_district_\n",
    "\n",
    "\n",
    "Categorical\n",
    "1. number_of_vehicles: this is categorical, with 4 categories (1-4)\n",
    "2. day_of_week\n",
    "3. 1st_road_class: 8 classes\n",
    "4. road_type: 6 types and 1 is unkown\n",
    "5. speed_limit: 6 classes (20-70)\n",
    "6. 2nd_road_class: 5 classes\n",
    "7. pedestrian_crossing_human_control: 3 classes/types\n",
    "8. pedestrian_crossing_physical_facilities: 6 classes\n",
    "9. light_conditions: 5 classes\n",
    "10. weather_conditions: 9 classes and 1 is unknown\n",
    "11. road_surface_conditions: 5 classes\n",
    "12. special_conditions_at_site: 8 classes\n",
    "13. carriageway_hazards: 6 classes, most of them are NONE\n",
    "14. urban_or_rural_area (1 or 2)\n",
    "15. did_police_officer_attend_scene_of_accident: Yes or No values\n",
    "16. state: 3 types\n",
    "17. postcode: A lot of postcode\n",
    "18. local_authority_highway_\n",
    "\n",
    "Date\n",
    "1. date\n",
    "2. day_of_week (also categorical)\n",
    "3. time\n",
    "\n",
    "Drop Columns\n",
    "\n",
    "1. 1st_road_number\n",
    "2. 2nd_road_number\n",
    "3. accident_id\n",
    "4. country\n",
    "\n",
    "Target column:\n",
    "number_of_casualties: it is categorical (1-5) or numeric "
   ],
   "metadata": {}
  },
  {
   "cell_type": "markdown",
   "source": [
    "## I. Numeric Values"
   ],
   "metadata": {}
  },
  {
   "cell_type": "markdown",
   "source": [
    "### 1. Police Force"
   ],
   "metadata": {}
  },
  {
   "cell_type": "code",
   "execution_count": 62,
   "source": [
    "sns.histplot(raw_data['police_force'])"
   ],
   "outputs": [
    {
     "output_type": "execute_result",
     "data": {
      "text/plain": [
       "<AxesSubplot:xlabel='police_force', ylabel='Count'>"
      ]
     },
     "metadata": {},
     "execution_count": 62
    },
    {
     "output_type": "display_data",
     "data": {
      "image/png": "[encoded data removed]",
      "text/plain": [
       "<Figure size 576x396 with 1 Axes>"
      ]
     },
     "metadata": {}
    }
   ],
   "metadata": {}
  },
  {
   "cell_type": "code",
   "execution_count": 63,
   "source": [
    "raw_data['police_force'].describe()"
   ],
   "outputs": [
    {
     "output_type": "execute_result",
     "data": {
      "text/plain": [
       "count    478741.000000\n",
       "mean         31.610178\n",
       "std          24.941660\n",
       "min           1.000000\n",
       "25%          12.000000\n",
       "50%          33.000000\n",
       "75%          45.000000\n",
       "max          98.000000\n",
       "Name: police_force, dtype: float64"
      ]
     },
     "metadata": {},
     "execution_count": 63
    }
   ],
   "metadata": {}
  },
  {
   "cell_type": "code",
   "execution_count": 64,
   "source": [
    "sns.boxplot(raw_data['police_force'])\n",
    "plt.show()"
   ],
   "outputs": [
    {
     "output_type": "display_data",
     "data": {
      "image/png": "[encoded data removed]",
      "text/plain": [
       "<Figure size 576x396 with 1 Axes>"
      ]
     },
     "metadata": {}
    }
   ],
   "metadata": {}
  },
  {
   "cell_type": "markdown",
   "source": [
    "### 2. local_authority_district_"
   ],
   "metadata": {}
  },
  {
   "cell_type": "code",
   "execution_count": 65,
   "source": [
    "sns.histplot(raw_data['local_authority_district_'])"
   ],
   "outputs": [
    {
     "output_type": "execute_result",
     "data": {
      "text/plain": [
       "<AxesSubplot:xlabel='local_authority_district_', ylabel='Count'>"
      ]
     },
     "metadata": {},
     "execution_count": 65
    },
    {
     "output_type": "display_data",
     "data": {
      "image/png": "[encoded data removed]",
      "text/plain": [
       "<Figure size 576x396 with 1 Axes>"
      ]
     },
     "metadata": {}
    }
   ],
   "metadata": {}
  },
  {
   "cell_type": "code",
   "execution_count": 66,
   "source": [
    "raw_data['local_authority_district_'].describe()"
   ],
   "outputs": [
    {
     "output_type": "execute_result",
     "data": {
      "text/plain": [
       "count    478741.000000\n",
       "mean        357.457132\n",
       "std         256.530105\n",
       "min           1.000000\n",
       "25%         103.000000\n",
       "50%         314.000000\n",
       "75%         521.000000\n",
       "max         941.000000\n",
       "Name: local_authority_district_, dtype: float64"
      ]
     },
     "metadata": {},
     "execution_count": 66
    }
   ],
   "metadata": {}
  },
  {
   "cell_type": "code",
   "execution_count": 67,
   "source": [
    "sns.boxplot(raw_data['local_authority_district_'])"
   ],
   "outputs": [
    {
     "output_type": "execute_result",
     "data": {
      "text/plain": [
       "<AxesSubplot:xlabel='local_authority_district_'>"
      ]
     },
     "metadata": {},
     "execution_count": 67
    },
    {
     "output_type": "display_data",
     "data": {
      "image/png": "[encoded data removed]",
      "text/plain": [
       "<Figure size 576x396 with 1 Axes>"
      ]
     },
     "metadata": {}
    }
   ],
   "metadata": {}
  },
  {
   "cell_type": "markdown",
   "source": [
    "## II. Categorical Variables"
   ],
   "metadata": {}
  },
  {
   "cell_type": "code",
   "execution_count": 68,
   "source": [
    "for cat in cat_col:\n",
    "    if cat == 'postcode':\n",
    "        print('Skipping.........Postcode too many categories')\n",
    "    else:\n",
    "        print(cat, \"is the Categorical Variable we are looking at now is\")\n",
    "        print(raw_data[cat].value_counts())\n",
    "        \n",
    "        plt.figure(figsize=(6, 6))\n",
    "        \n",
    "        ax = ((sns.countplot(pd.Categorical(raw_data[cat]))))\n",
    "        ax.set_xticklabels(ax.get_xticklabels(), rotation=40, ha=\"right\")\n",
    "        plt.show()\n",
    "        print('==='*50)"
   ],
   "outputs": [
    {
     "output_type": "stream",
     "name": "stdout",
     "text": [
      "number_of_vehicles is the Categorical Variable we are looking at now is\n",
      "2    281598\n",
      "1    163061\n",
      "3     26849\n",
      "4      7233\n",
      "Name: number_of_vehicles, dtype: int64\n"
     ]
    },
    {
     "output_type": "display_data",
     "data": {
      "image/png": "[encoded data removed]",
      "text/plain": [
       "<Figure size 432x432 with 1 Axes>"
      ]
     },
     "metadata": {}
    },
    {
     "output_type": "stream",
     "name": "stdout",
     "text": [
      "======================================================================================================================================================\n",
      "day_of_week is the Categorical Variable we are looking at now is\n",
      "6    101004\n",
      "3     96595\n",
      "5     72808\n",
      "7     71126\n",
      "2     57859\n",
      "4     46098\n",
      "1     33251\n",
      "Name: day_of_week, dtype: int64\n"
     ]
    },
    {
     "output_type": "display_data",
     "data": {
      "image/png": "[encoded data removed]",
      "text/plain": [
       "<Figure size 432x432 with 1 Axes>"
      ]
     },
     "metadata": {}
    },
    {
     "output_type": "stream",
     "name": "stdout",
     "text": [
      "======================================================================================================================================================\n",
      "1st_road_class is the Categorical Variable we are looking at now is\n",
      "3    168644\n",
      "6    158212\n",
      "4     73233\n",
      "5     67709\n",
      "1     10943\n",
      "Name: 1st_road_class, dtype: int64\n"
     ]
    },
    {
     "output_type": "display_data",
     "data": {
      "image/png": "[encoded data removed]",
      "text/plain": [
       "<Figure size 432x432 with 1 Axes>"
      ]
     },
     "metadata": {}
    },
    {
     "output_type": "stream",
     "name": "stdout",
     "text": [
      "======================================================================================================================================================\n",
      "road_type is the Categorical Variable we are looking at now is\n",
      "Single carriageway    372554\n",
      "Dual carriageway       52783\n",
      "Roundabout             28541\n",
      "One way street         24311\n",
      "Slip road                523\n",
      "Unknown                   29\n",
      "Name: road_type, dtype: int64\n"
     ]
    },
    {
     "output_type": "display_data",
     "data": {
      "image/png": "[encoded data removed]",
      "text/plain": [
       "<Figure size 432x432 with 1 Axes>"
      ]
     },
     "metadata": {}
    },
    {
     "output_type": "stream",
     "name": "stdout",
     "text": [
      "======================================================================================================================================================\n",
      "speed_limit is the Categorical Variable we are looking at now is\n",
      "30    329800\n",
      "60     75015\n",
      "40     34108\n",
      "70     16147\n",
      "50     12257\n",
      "20     11414\n",
      "Name: speed_limit, dtype: int64\n"
     ]
    },
    {
     "output_type": "display_data",
     "data": {
      "image/png": "[encoded data removed]",
      "text/plain": [
       "<Figure size 432x432 with 1 Axes>"
      ]
     },
     "metadata": {}
    },
    {
     "output_type": "stream",
     "name": "stdout",
     "text": [
      "======================================================================================================================================================\n",
      "2nd_road_class is the Categorical Variable we are looking at now is\n",
      "-1    220221\n",
      " 6    181479\n",
      " 3     38286\n",
      " 5     24842\n",
      " 4     13913\n",
      "Name: 2nd_road_class, dtype: int64\n"
     ]
    },
    {
     "output_type": "display_data",
     "data": {
      "image/png": "[encoded data removed]",
      "text/plain": [
       "<Figure size 432x432 with 1 Axes>"
      ]
     },
     "metadata": {}
    },
    {
     "output_type": "stream",
     "name": "stdout",
     "text": [
      "======================================================================================================================================================\n",
      "pedestrian_crossing_human_control is the Categorical Variable we are looking at now is\n",
      "None within 50 metres                 455040\n",
      "Control by other authorised person     23669\n",
      "Control by school crossing patrol         32\n",
      "Name: pedestrian_crossing_human_control, dtype: int64\n"
     ]
    },
    {
     "output_type": "display_data",
     "data": {
      "image/png": "[encoded data removed]",
      "text/plain": [
       "<Figure size 432x432 with 1 Axes>"
      ]
     },
     "metadata": {}
    },
    {
     "output_type": "stream",
     "name": "stdout",
     "text": [
      "======================================================================================================================================================\n",
      "pedestrian_crossing_physical_facilities is the Categorical Variable we are looking at now is\n",
      "No physical crossing within 50 meters          404561\n",
      "Pedestrian phase at traffic signal junction     35618\n",
      "Zebra crossing                                  27007\n",
      "non-junction pedestrian crossing                 9659\n",
      "Central refuge                                   1834\n",
      "Footbridge or subway                               62\n",
      "Name: pedestrian_crossing_physical_facilities, dtype: int64\n"
     ]
    },
    {
     "output_type": "display_data",
     "data": {
      "image/png": "[encoded data removed]",
      "text/plain": [
       "<Figure size 432x432 with 1 Axes>"
      ]
     },
     "metadata": {}
    },
    {
     "output_type": "stream",
     "name": "stdout",
     "text": [
      "======================================================================================================================================================\n",
      "light_conditions is the Categorical Variable we are looking at now is\n",
      "Daylight: Street light present               377728\n",
      "Darkness: Street lights present and lit       70860\n",
      "Darkness: Street lighting unknown             16817\n",
      "Darkeness: No street lighting                 13152\n",
      "Darkness: Street lights present but unlit       184\n",
      "Name: light_conditions, dtype: int64\n"
     ]
    },
    {
     "output_type": "display_data",
     "data": {
      "image/png": "[encoded data removed]",
      "text/plain": [
       "<Figure size 432x432 with 1 Axes>"
      ]
     },
     "metadata": {}
    },
    {
     "output_type": "stream",
     "name": "stdout",
     "text": [
      "======================================================================================================================================================\n",
      "weather_conditions is the Categorical Variable we are looking at now is\n",
      "Fine without high winds       379429\n",
      "Raining without high winds     53708\n",
      "Raining with high winds        20326\n",
      "Fine with high winds           14714\n",
      "Snowing without high winds      4608\n",
      "Other                           4531\n",
      "Fog or mist                     1058\n",
      "Snowing with high winds          249\n",
      "Unknown                          118\n",
      "Name: weather_conditions, dtype: int64\n"
     ]
    },
    {
     "output_type": "display_data",
     "data": {
      "image/png": "[encoded data removed]",
      "text/plain": [
       "<Figure size 432x432 with 1 Axes>"
      ]
     },
     "metadata": {}
    },
    {
     "output_type": "stream",
     "name": "stdout",
     "text": [
      "======================================================================================================================================================\n",
      "road_surface_conditions is the Categorical Variable we are looking at now is\n",
      "Dry                          365843\n",
      "Wet/Damp                      87570\n",
      "Frost/Ice                     16172\n",
      "Snow                           8613\n",
      "Flood (Over 3cm of water)        91\n",
      "Name: road_surface_conditions, dtype: int64\n"
     ]
    },
    {
     "output_type": "display_data",
     "data": {
      "image/png": "[encoded data removed]",
      "text/plain": [
       "<Figure size 432x432 with 1 Axes>"
      ]
     },
     "metadata": {}
    },
    {
     "output_type": "stream",
     "name": "stdout",
     "text": [
      "======================================================================================================================================================\n",
      "special_conditions_at_site is the Categorical Variable we are looking at now is\n",
      "None                                               427839\n",
      "Roadworks                                           45252\n",
      "Ol or diesel                                         1371\n",
      "Road surface defective                               1289\n",
      "Mud                                                  1104\n",
      "Auto traffic singal out                               885\n",
      "Permanent sign or marking defective or obscured       660\n",
      "Auto traffic signal partly defective                  278\n",
      "Name: special_conditions_at_site, dtype: int64\n"
     ]
    },
    {
     "output_type": "display_data",
     "data": {
      "image/png": "[encoded data removed]",
      "text/plain": [
       "<Figure size 432x432 with 1 Axes>"
      ]
     },
     "metadata": {}
    },
    {
     "output_type": "stream",
     "name": "stdout",
     "text": [
      "======================================================================================================================================================\n",
      "carriageway_hazards is the Categorical Variable we are looking at now is\n",
      "None                                       459559\n",
      "Other object in carriageway                 17355\n",
      "Any animal (except a ridden horse)           1401\n",
      "Pedestrian in carriageway (not injured)       313\n",
      "Involvement with previous accident             76\n",
      "Dislodged vehicle load in carriageway          37\n",
      "Name: carriageway_hazards, dtype: int64\n"
     ]
    },
    {
     "output_type": "display_data",
     "data": {
      "image/png": "[encoded data removed]",
      "text/plain": [
       "<Figure size 432x432 with 1 Axes>"
      ]
     },
     "metadata": {}
    },
    {
     "output_type": "stream",
     "name": "stdout",
     "text": [
      "======================================================================================================================================================\n",
      "urban_or_rural_area is the Categorical Variable we are looking at now is\n",
      "1    286263\n",
      "2    192478\n",
      "Name: urban_or_rural_area, dtype: int64\n"
     ]
    },
    {
     "output_type": "display_data",
     "data": {
      "image/png": "[encoded data removed]",
      "text/plain": [
       "<Figure size 432x432 with 1 Axes>"
      ]
     },
     "metadata": {}
    },
    {
     "output_type": "stream",
     "name": "stdout",
     "text": [
      "======================================================================================================================================================\n",
      "did_police_officer_attend_scene_of_accident is the Categorical Variable we are looking at now is\n",
      "Yes    391064\n",
      "No      87677\n",
      "Name: did_police_officer_attend_scene_of_accident, dtype: int64\n"
     ]
    },
    {
     "output_type": "display_data",
     "data": {
      "image/png": "[encoded data removed]",
      "text/plain": [
       "<Figure size 432x432 with 1 Axes>"
      ]
     },
     "metadata": {}
    },
    {
     "output_type": "stream",
     "name": "stdout",
     "text": [
      "======================================================================================================================================================\n",
      "state is the Categorical Variable we are looking at now is\n",
      "England            407853\n",
      "Alba / Scotland     59667\n",
      "Cymru / Wales       11221\n",
      "Name: state, dtype: int64\n"
     ]
    },
    {
     "output_type": "display_data",
     "data": {
      "image/png": "[encoded data removed]",
      "text/plain": [
       "<Figure size 432x432 with 1 Axes>"
      ]
     },
     "metadata": {}
    },
    {
     "output_type": "stream",
     "name": "stdout",
     "text": [
      "======================================================================================================================================================\n",
      "local_authority_highway_ is the Categorical Variable we are looking at now is\n",
      "E10000016    31297\n",
      "E10000029    19499\n",
      "E08000032    18150\n",
      "E10000032    16902\n",
      "E10000007    12928\n",
      "E08000035    11790\n",
      "E10000008    11485\n",
      "E10000015     9866\n",
      "E10000017     8309\n",
      "E10000030     7947\n",
      "E10000023     7781\n",
      "E06000047     7701\n",
      "E10000031     6331\n",
      "E10000024     6286\n",
      "E08000025     6162\n",
      "E06000050     5663\n",
      "E09000033     5348\n",
      "E10000006     4943\n",
      "E10000018     4377\n",
      "E10000027     4097\n",
      "E08000017     4078\n",
      "E06000011     3917\n",
      "E06000049     3805\n",
      "E08000019     3768\n",
      "S12000036     3613\n",
      "E08000012     3359\n",
      "E10000011     3346\n",
      "E08000036     3206\n",
      "S12000038     3165\n",
      "E06000055     3156\n",
      "W06000023     3091\n",
      "E08000033     3090\n",
      "S12000040     3062\n",
      "W06000016     3054\n",
      "E08000030     3032\n",
      "E08000014     2965\n",
      "E06000029     2957\n",
      "E06000022     2914\n",
      "W06000005     2854\n",
      "E09000025     2850\n",
      "E06000051     2820\n",
      "E10000020     2785\n",
      "E06000033     2758\n",
      "E09000016     2727\n",
      "E06000005     2684\n",
      "E09000005     2675\n",
      "E06000014     2651\n",
      "E09000023     2613\n",
      "E08000015     2606\n",
      "E10000025     2603\n",
      "E10000002     2597\n",
      "W06000009     2574\n",
      "E06000030     2553\n",
      "E06000018     2539\n",
      "E10000014     2537\n",
      "E10000021     2509\n",
      "E06000040     2473\n",
      "E06000023     2471\n",
      "E08000020     2440\n",
      "E09000031     2395\n",
      "E09000012     2339\n",
      "E08000018     2307\n",
      "E06000039     2299\n",
      "E06000032     2264\n",
      "S12000043     2179\n",
      "E06000009     2136\n",
      "E06000043     2114\n",
      "E10000013     2098\n",
      "E06000037     2077\n",
      "E06000046     2077\n",
      "E06000031     2029\n",
      "E09000029     2013\n",
      "E09000002     2013\n",
      "E09000028     1933\n",
      "E09000022     1923\n",
      "E06000035     1912\n",
      "E08000007     1884\n",
      "S12000006     1866\n",
      "E10000019     1850\n",
      "E09000021     1847\n",
      "E08000009     1836\n",
      "S12000029     1835\n",
      "E09000026     1832\n",
      "E09000020     1829\n",
      "E08000024     1793\n",
      "E08000003     1790\n",
      "E09000003     1767\n",
      "E06000038     1715\n",
      "E06000042     1663\n",
      "E06000024     1655\n",
      "E08000001     1611\n",
      "E10000003     1584\n",
      "W06000006     1583\n",
      "E06000026     1580\n",
      "E06000016     1578\n",
      "E08000022     1547\n",
      "E08000004     1543\n",
      "E09000009     1530\n",
      "E09000024     1492\n",
      "E08000023     1476\n",
      "E09000006     1467\n",
      "E06000004     1437\n",
      "E10000028     1388\n",
      "E09000008     1370\n",
      "E09000015     1367\n",
      "E06000054     1316\n",
      "E09000014     1311\n",
      "E09000001     1276\n",
      "E06000056     1252\n",
      "E08000027     1251\n",
      "E06000013     1189\n",
      "E10000034     1187\n",
      "E08000034     1178\n",
      "S12000041     1137\n",
      "E09000030     1124\n",
      "E09000011     1124\n",
      "E06000012     1123\n",
      "E06000034     1121\n",
      "E10000009     1111\n",
      "S12000019     1097\n",
      "W06000018     1091\n",
      "E08000013     1090\n",
      "E09000018     1054\n",
      "W06000011     1054\n",
      "E06000036     1043\n",
      "E06000052     1041\n",
      "S12000008     1032\n",
      "S12000028     1024\n",
      "S12000026     1009\n",
      "E08000021     1000\n",
      "S12000035      992\n",
      "W06000014      990\n",
      "E06000048      987\n",
      "S12000034      967\n",
      "E08000016      951\n",
      "E09000007      938\n",
      "E08000026      928\n",
      "S12000030      919\n",
      "W06000008      910\n",
      "S12000010      894\n",
      "E08000010      891\n",
      "E09000017      869\n",
      "E09000032      864\n",
      "E06000020      862\n",
      "E09000019      852\n",
      "E09000010      820\n",
      "W06000012      820\n",
      "S12000033      816\n",
      "E06000001      812\n",
      "E06000044      799\n",
      "S12000018      791\n",
      "W06000013      783\n",
      "E06000021      781\n",
      "W06000002      763\n",
      "E06000002      750\n",
      "S12000020      731\n",
      "W06000004      715\n",
      "E09000004      706\n",
      "W06000022      705\n",
      "E08000011      701\n",
      "E06000003      674\n",
      "E06000015      663\n",
      "W06000003      639\n",
      "E06000007      626\n",
      "S12000021      622\n",
      "E06000027      602\n",
      "S12000039      594\n",
      "S12000011      590\n",
      "S12000044      578\n",
      "S12000015      566\n",
      "E06000010      564\n",
      "S12000017      518\n",
      "S12000014      516\n",
      "W06000001      516\n",
      "E06000008      505\n",
      "E08000029      497\n",
      "E06000025      494\n",
      "E06000041      490\n",
      "S12000024      478\n",
      "S12000042      474\n",
      "E06000028      468\n",
      "E09000027      458\n",
      "E10000012      455\n",
      "S12000009      449\n",
      "W06000024      446\n",
      "W06000021      446\n",
      "E06000045      440\n",
      "E08000006      435\n",
      "E08000005      432\n",
      "E09000013      415\n",
      "E06000019      407\n",
      "W06000015      378\n",
      "E08000008      352\n",
      "E06000006      328\n",
      "E08000028      325\n",
      "S12000005      320\n",
      "E08000031      302\n",
      "E06000017      296\n",
      "E08000002      278\n",
      "W06000010      270\n",
      "W06000019      230\n",
      "EHEATHROW      156\n",
      "S12000013      119\n",
      "S12000027       97\n",
      "S12000023       54\n",
      "W06000020       36\n",
      "E06000053       19\n",
      "Name: local_authority_highway_, dtype: int64\n"
     ]
    },
    {
     "output_type": "display_data",
     "data": {
      "image/png": "[encoded data removed]",
      "text/plain": [
       "<Figure size 432x432 with 1 Axes>"
      ]
     },
     "metadata": {}
    },
    {
     "output_type": "stream",
     "name": "stdout",
     "text": [
      "======================================================================================================================================================\n",
      "Skipping.........Postcode too many categories\n"
     ]
    }
   ],
   "metadata": {}
  },
  {
   "cell_type": "markdown",
   "source": [
    "## Insights about the Categorical Data\n",
    "\n",
    "1. number_of_vechiles: Data mostly is about when there were 2/1 vechiles invovled. This can be used for modelling.\n",
    "2. day_of_week: Surprisingly the most data is recorded about 6 (saturday) followed by 3, 5, 7, \n",
    "3. 1st_road_class: most belong to 3 and 6\n",
    "4. road_type: Most belong to Single carriageway, followed by Dual carriageway (last 2 can be grouped together)\n",
    "5. speed_limit: Most data says 30(329800) mph has the speed limit\n",
    "6. 2nd_road_class: Most data is about the category -1 and 6\n",
    "7. pedestrian_crossing_human_control: Most value (None within 50 metres ), Control by other authorised person (second most), 3rd very less\n",
    "8. pedestrian_crossing_physical_facilities: No physical crossing within 50 meters          404561\n",
    "\t\t\t\t\t\t\t\t\t\t\tPedestrian phase at traffic signal junction     35618\n",
    "\t\t\t\t\t\t\t\t\t\t\tZebra crossing                                  27007\n",
    "\n",
    "9. light_conditions: Most days (Daylight), next Darkness: Street lights present and lit \n",
    "10. weather_conditions: Most days Fine without high winds, next highest (Raining without high winds     53708)\n",
    "11. road_surface_conditions: Most roads are Dry, Wet/Damp (next highest)\n",
    "12. special_conditions_at_site: Most of them have the value None and few not none (Check if not none how it affected the causalities)\n",
    "13. carriageway_hazards: Most of them are None (Check if not none how it affected the causalities)\n",
    "14. urban_or_rural_area: Nearly equal (1 is slighly higher)\n",
    "15. did_police_officer_attend_scene_of_accident: Most of them are Yes\n",
    "16. state: Most of them are in England"
   ],
   "metadata": {}
  },
  {
   "cell_type": "markdown",
   "source": [
    "## III. Time Data Manipulation"
   ],
   "metadata": {}
  },
  {
   "cell_type": "code",
   "execution_count": 69,
   "source": [
    "raw_data['time'].apply(lambda x: str(x).split(\":\")[0])\n",
    "raw_data['Date_time'] =  raw_data['date'] +' '+ raw_data['time']\n",
    "raw_data['Date_time'] = pd.to_datetime(raw_data.Date_time)"
   ],
   "outputs": [],
   "metadata": {}
  },
  {
   "cell_type": "markdown",
   "source": [
    "## IV. Visuals "
   ],
   "metadata": {}
  },
  {
   "cell_type": "markdown",
   "source": [
    "### 1. Accidents on the day of a week"
   ],
   "metadata": {}
  },
  {
   "cell_type": "code",
   "execution_count": 70,
   "source": [
    "plt.figure(figsize=(12,6))\n",
    "raw_data.Date_time.dt.dayofweek.hist(bins=7,rwidth=0.55,alpha=0.5, color= 'orange')\n",
    "plt.title('Accidents on the day of a week' , fontsize= 30)\n",
    "plt.grid(False)\n",
    "plt.ylabel('Accident count' , fontsize = 20)\n",
    "plt.xlabel('0 - Sunday ,  1 - Monday  ,2 - Tuesday , 3 - Wednesday , 4 - Thursday , 5 - Friday , 6 - Saturday' , fontsize = 13)"
   ],
   "outputs": [
    {
     "output_type": "execute_result",
     "data": {
      "text/plain": [
       "Text(0.5, 0, '0 - Sunday ,  1 - Monday  ,2 - Tuesday , 3 - Wednesday , 4 - Thursday , 5 - Friday , 6 - Saturday')"
      ]
     },
     "metadata": {},
     "execution_count": 70
    },
    {
     "output_type": "display_data",
     "data": {
      "image/png": "[encoded data removed]",
      "text/plain": [
       "<Figure size 864x432 with 1 Axes>"
      ]
     },
     "metadata": {}
    }
   ],
   "metadata": {}
  },
  {
   "cell_type": "markdown",
   "source": [
    "### 2. Time of the day/night when accident takes place"
   ],
   "metadata": {}
  },
  {
   "cell_type": "code",
   "execution_count": 71,
   "source": [
    "plt.figure(figsize=(12,6))\n",
    "raw_data.Date_time.dt.hour.hist(rwidth=0.75,alpha =0.50, color= 'orange')\n",
    "plt.title('Time of the day/night',fontsize= 30)\n",
    "plt.grid(False)\n",
    "plt.xlabel('Time 0-23 hours' , fontsize = 20)\n",
    "plt.ylabel('Accident count' , fontsize = 15)"
   ],
   "outputs": [
    {
     "output_type": "execute_result",
     "data": {
      "text/plain": [
       "Text(0, 0.5, 'Accident count')"
      ]
     },
     "metadata": {},
     "execution_count": 71
    },
    {
     "output_type": "display_data",
     "data": {
      "image/png": "[encoded data removed]",
      "text/plain": [
       "<Figure size 864x432 with 1 Axes>"
      ]
     },
     "metadata": {}
    }
   ],
   "metadata": {}
  },
  {
   "cell_type": "markdown",
   "source": [
    "### 3. Average Number of Casualties based on Speed Limit"
   ],
   "metadata": {}
  },
  {
   "cell_type": "code",
   "execution_count": 72,
   "source": [
    "# check speed limit\n",
    "raw_data.groupby('speed_limit')['number_of_casualties'].mean().plot(kind='bar', color='slategrey', \n",
    "                                                              figsize=(15,4), grid=False)\n",
    "plt.xticks(np.arange(6), \n",
    "           [i for i in range(20, 80, 10)], \n",
    "           rotation='horizontal')\n",
    "plt.ylim((0.6,1.6))\n",
    "plt.xlabel(''), plt.ylabel('Average Number of Casualties\\n')\n",
    "plt.title('\\nAverage Number of Casualties by Speed Limit\\n', fontweight='bold')\n",
    "sns.despine(top=True, right=True, left=True, bottom=True);"
   ],
   "outputs": [
    {
     "output_type": "display_data",
     "data": {
      "image/png": "[encoded data removed]",
      "text/plain": [
       "<Figure size 1080x288 with 1 Axes>"
      ]
     },
     "metadata": {}
    }
   ],
   "metadata": {}
  },
  {
   "cell_type": "markdown",
   "source": [
    "### 4. Average Number of Casualties by the number of vechiles involved"
   ],
   "metadata": {}
  },
  {
   "cell_type": "code",
   "execution_count": 73,
   "source": [
    "#raw_data.groupby('number_of_vehicles')['number_of_casualties'].mean()\n",
    "raw_data.groupby('number_of_vehicles')['number_of_casualties'].mean().plot(kind='bar', color='slategrey', \n",
    "                                                              figsize=(15,4), grid=False)\n",
    "plt.xticks(np.arange(4), \n",
    "           [i for i in range(1, 5,)], \n",
    "           rotation='horizontal')\n",
    "#plt.ylim((0.6,1.6))\n",
    "plt.xlabel(''), plt.ylabel('Average Number of Casualties\\n')\n",
    "plt.title('\\nAverage Number of Casualties by the number of vechiles involved\\n', fontweight='bold')\n",
    "sns.despine(top=True, right=True, left=True, bottom=True);"
   ],
   "outputs": [
    {
     "output_type": "display_data",
     "data": {
      "image/png": "[encoded data removed]",
      "text/plain": [
       "<Figure size 1080x288 with 1 Axes>"
      ]
     },
     "metadata": {}
    }
   ],
   "metadata": {}
  },
  {
   "cell_type": "markdown",
   "source": [
    "### 5. Average Number of Casualties based on road type"
   ],
   "metadata": {}
  },
  {
   "cell_type": "code",
   "execution_count": 74,
   "source": [
    "#raw_data.groupby('number_of_vehicles')['number_of_casualties'].mean()\n",
    "raw_data.groupby('road_type')['number_of_casualties'].mean().plot(kind='bar', color='slategrey', \n",
    "                                                              figsize=(15,4), grid=False)\n",
    "plt.xticks(np.arange(6), \n",
    "           list(raw_data['road_type'].unique()), \n",
    "           rotation='horizontal')\n",
    "#plt.ylim((0.6,1.6))\n",
    "plt.xlabel(''), plt.ylabel('Average Number of Casualties\\n')\n",
    "plt.title('\\nAverage Number of Casualties based on road type\\n', fontweight='bold')\n",
    "sns.despine(top=True, right=True, left=True, bottom=True);"
   ],
   "outputs": [
    {
     "output_type": "display_data",
     "data": {
      "image/png": "[encoded data removed]",
      "text/plain": [
       "<Figure size 1080x288 with 1 Axes>"
      ]
     },
     "metadata": {}
    }
   ],
   "metadata": {}
  },
  {
   "cell_type": "markdown",
   "source": [
    "### 6. Number of Casualties based on road_type"
   ],
   "metadata": {}
  },
  {
   "cell_type": "code",
   "execution_count": 75,
   "source": [
    "print(raw_data.groupby('road_type')['number_of_casualties'].count())\n",
    "raw_data.groupby('road_type')['number_of_casualties'].count().plot(kind='bar', color='slategrey', \n",
    "                                                              figsize=(15,4), grid=False)\n",
    "plt.xticks(np.arange(6), \n",
    "           list(raw_data['road_type'].unique()), \n",
    "           rotation='horizontal')\n",
    "#plt.ylim((0.6,1.6))\n",
    "plt.xlabel(''), plt.ylabel('Number of Casualties\\n')\n",
    "plt.title('Number of Casualties based on road_type\\n', fontweight='bold')\n",
    "sns.despine(top=True, right=True, left=True, bottom=True);"
   ],
   "outputs": [
    {
     "output_type": "stream",
     "name": "stdout",
     "text": [
      "road_type\n",
      "Dual carriageway       52783\n",
      "One way street         24311\n",
      "Roundabout             28541\n",
      "Single carriageway    372554\n",
      "Slip road                523\n",
      "Unknown                   29\n",
      "Name: number_of_casualties, dtype: int64\n"
     ]
    },
    {
     "output_type": "display_data",
     "data": {
      "image/png": "[encoded data removed]",
      "text/plain": [
       "<Figure size 1080x288 with 1 Axes>"
      ]
     },
     "metadata": {}
    }
   ],
   "metadata": {}
  },
  {
   "cell_type": "code",
   "execution_count": 76,
   "source": [
    "col = 'light_conditions'\n",
    "print(raw_data.groupby(col)['number_of_casualties'].mean())\n",
    "raw_data.groupby(col)['number_of_casualties'].mean().plot(kind='bar', color='slategrey', \n",
    "                                                              figsize=(15,4), grid=False)\n",
    "plt.xticks(np.arange(5), \n",
    "           list(raw_data[col].unique()), \n",
    "           rotation='horizontal')\n",
    "#plt.ylim((0.6,1.6))\n",
    "plt.xlabel(''), plt.ylabel('Average of Casualties\\n')\n",
    "plt.title(f'Average num  of Casualties based on {col}\\n', fontweight='bold')\n",
    "sns.despine(top=True, right=True, left=True, bottom=True);"
   ],
   "outputs": [
    {
     "output_type": "stream",
     "name": "stdout",
     "text": [
      "light_conditions\n",
      "Darkeness: No street lighting                1.506007\n",
      "Darkness: Street lighting unknown            1.479693\n",
      "Darkness: Street lights present and lit      1.429424\n",
      "Darkness: Street lights present but unlit    1.451087\n",
      "Daylight: Street light present               1.467733\n",
      "Name: number_of_casualties, dtype: float64\n"
     ]
    },
    {
     "output_type": "display_data",
     "data": {
      "image/png": "[encoded data removed]",
      "text/plain": [
       "<Figure size 1080x288 with 1 Axes>"
      ]
     },
     "metadata": {}
    }
   ],
   "metadata": {}
  },
  {
   "cell_type": "code",
   "execution_count": 77,
   "source": [
    "col = 'light_conditions'\n",
    "print(raw_data.groupby(col)['number_of_casualties'].count())\n",
    "raw_data.groupby(col)['number_of_casualties'].count().plot(kind='bar', color='slategrey', \n",
    "                                                              figsize=(15,4), grid=False)\n",
    "plt.xticks(np.arange(5), \n",
    "           list(raw_data[col].unique()), \n",
    "           rotation='horizontal')\n",
    "#plt.ylim((0.6,1.6))\n",
    "plt.xlabel(''), plt.ylabel('Number of Casualties\\n')\n",
    "plt.title(f'Number of Casualties based on {col}\\n', fontweight='bold')\n",
    "sns.despine(top=True, right=True, left=True, bottom=True);"
   ],
   "outputs": [
    {
     "output_type": "stream",
     "name": "stdout",
     "text": [
      "light_conditions\n",
      "Darkeness: No street lighting                 13152\n",
      "Darkness: Street lighting unknown             16817\n",
      "Darkness: Street lights present and lit       70860\n",
      "Darkness: Street lights present but unlit       184\n",
      "Daylight: Street light present               377728\n",
      "Name: number_of_casualties, dtype: int64\n"
     ]
    },
    {
     "output_type": "display_data",
     "data": {
      "image/png": "[encoded data removed]",
      "text/plain": [
       "<Figure size 1080x288 with 1 Axes>"
      ]
     },
     "metadata": {}
    }
   ],
   "metadata": {}
  },
  {
   "cell_type": "code",
   "execution_count": 78,
   "source": [
    "col = 'weather_conditions'\n",
    "print(raw_data.groupby(col)['number_of_casualties'].count())\n",
    "raw_data.groupby(col)['number_of_casualties'].count().plot(kind='bar', color='slategrey', \n",
    "                                                              figsize=(15,4), grid=False)\n",
    "plt.xticks(np.arange(9), \n",
    "           list(raw_data[col].unique()), \n",
    "            rotation = 45)\n",
    "#plt.ylim((0.6,1.6))\n",
    "plt.xlabel(''), plt.ylabel('Number of Casualties\\n')\n",
    "plt.title(f'Number of Casualties based on {col}\\n', fontweight='bold')\n",
    "sns.despine(top=True, right=True, left=True, bottom=True);"
   ],
   "outputs": [
    {
     "output_type": "stream",
     "name": "stdout",
     "text": [
      "weather_conditions\n",
      "Fine with high winds           14714\n",
      "Fine without high winds       379429\n",
      "Fog or mist                     1058\n",
      "Other                           4531\n",
      "Raining with high winds        20326\n",
      "Raining without high winds     53708\n",
      "Snowing with high winds          249\n",
      "Snowing without high winds      4608\n",
      "Unknown                          118\n",
      "Name: number_of_casualties, dtype: int64\n"
     ]
    },
    {
     "output_type": "display_data",
     "data": {
      "image/png": "[encoded data removed]",
      "text/plain": [
       "<Figure size 1080x288 with 1 Axes>"
      ]
     },
     "metadata": {}
    }
   ],
   "metadata": {}
  },
  {
   "cell_type": "markdown",
   "source": [
    "## V. Missing Values"
   ],
   "metadata": {}
  },
  {
   "cell_type": "code",
   "execution_count": 79,
   "source": [
    "raw_data.isnull().sum()"
   ],
   "outputs": [
    {
     "output_type": "execute_result",
     "data": {
      "text/plain": [
       "accident_id                                      0\n",
       "police_force                                     0\n",
       "number_of_vehicles                               0\n",
       "number_of_casualties                             0\n",
       "date                                             0\n",
       "day_of_week                                      0\n",
       "time                                            14\n",
       "local_authority_district_                        0\n",
       "local_authority_highway_                         0\n",
       "1st_road_class                                   0\n",
       "1st_road_number                                  0\n",
       "road_type                                        0\n",
       "speed_limit                                      0\n",
       "2nd_road_class                                   0\n",
       "2nd_road_number                                  0\n",
       "pedestrian_crossing_human_control                0\n",
       "pedestrian_crossing_physical_facilities          0\n",
       "light_conditions                                 0\n",
       "weather_conditions                               0\n",
       "road_surface_conditions                        452\n",
       "special_conditions_at_site                      63\n",
       "carriageway_hazards                              0\n",
       "urban_or_rural_area                              0\n",
       "did_police_officer_attend_scene_of_accident      0\n",
       "state                                            0\n",
       "postcode                                         0\n",
       "country                                          0\n",
       "Date_time                                       14\n",
       "dtype: int64"
      ]
     },
     "metadata": {},
     "execution_count": 79
    }
   ],
   "metadata": {}
  },
  {
   "cell_type": "markdown",
   "source": [
    "We see that all the columns are categorical, so we will replace the missing values with the most repeated value"
   ],
   "metadata": {}
  },
  {
   "cell_type": "code",
   "execution_count": 80,
   "source": [
    "cols_missing_values = ['time', 'road_surface_conditions', 'special_conditions_at_site']"
   ],
   "outputs": [],
   "metadata": {}
  },
  {
   "cell_type": "code",
   "execution_count": 81,
   "source": [
    "def fillna(col):\n",
    "    col.fillna(col.value_counts().index[0], inplace=True)\n",
    "    return col"
   ],
   "outputs": [],
   "metadata": {}
  },
  {
   "cell_type": "code",
   "execution_count": 82,
   "source": [
    "for col in cols_missing_values:\n",
    "    raw_data=raw_data.apply(lambda col:fillna(col))"
   ],
   "outputs": [],
   "metadata": {}
  },
  {
   "cell_type": "code",
   "execution_count": 83,
   "source": [
    "raw_data.isnull().sum()"
   ],
   "outputs": [
    {
     "output_type": "execute_result",
     "data": {
      "text/plain": [
       "accident_id                                    0\n",
       "police_force                                   0\n",
       "number_of_vehicles                             0\n",
       "number_of_casualties                           0\n",
       "date                                           0\n",
       "day_of_week                                    0\n",
       "time                                           0\n",
       "local_authority_district_                      0\n",
       "local_authority_highway_                       0\n",
       "1st_road_class                                 0\n",
       "1st_road_number                                0\n",
       "road_type                                      0\n",
       "speed_limit                                    0\n",
       "2nd_road_class                                 0\n",
       "2nd_road_number                                0\n",
       "pedestrian_crossing_human_control              0\n",
       "pedestrian_crossing_physical_facilities        0\n",
       "light_conditions                               0\n",
       "weather_conditions                             0\n",
       "road_surface_conditions                        0\n",
       "special_conditions_at_site                     0\n",
       "carriageway_hazards                            0\n",
       "urban_or_rural_area                            0\n",
       "did_police_officer_attend_scene_of_accident    0\n",
       "state                                          0\n",
       "postcode                                       0\n",
       "country                                        0\n",
       "Date_time                                      0\n",
       "dtype: int64"
      ]
     },
     "metadata": {},
     "execution_count": 83
    }
   ],
   "metadata": {}
  },
  {
   "cell_type": "code",
   "execution_count": null,
   "source": [],
   "outputs": [],
   "metadata": {}
  },
  {
   "cell_type": "markdown",
   "source": [
    "## VI. Creating the target column and elimnate unwanted columns"
   ],
   "metadata": {}
  },
  {
   "cell_type": "code",
   "execution_count": 84,
   "source": [
    "# we need to calculate Accident_Risk_Index as sum(Number_of_casualities)/count(Accident_ID)\n",
    "grouped_train = raw_data.groupby('postcode') # group by postcode\n",
    "#create aggregation functions\n",
    "aggregations = {'number_of_casualties': [np.mean],\n",
    "               'accident_id': [np.count_nonzero]}\n",
    "aggregated_ = grouped_train.agg(aggregations)\n",
    "# formula mentioned above is used to calculate <Accident_Risk_Index>\n",
    "aggregated_['accident_risk_index'] = aggregated_['number_of_casualties']['mean']/aggregated_['accident_id']['count_nonzero']"
   ],
   "outputs": [],
   "metadata": {}
  },
  {
   "cell_type": "code",
   "execution_count": 85,
   "source": [
    "grouped_train['number_of_casualties'].count().sort_values(ascending=False)[:10].to_frame()"
   ],
   "outputs": [
    {
     "output_type": "execute_result",
     "data": {
      "text/html": [
       "<div>\n",
       "<style scoped>\n",
       "    .dataframe tbody tr th:only-of-type {\n",
       "        vertical-align: middle;\n",
       "    }\n",
       "\n",
       "    .dataframe tbody tr th {\n",
       "        vertical-align: top;\n",
       "    }\n",
       "\n",
       "    .dataframe thead th {\n",
       "        text-align: right;\n",
       "    }\n",
       "</style>\n",
       "<table border=\"1\" class=\"dataframe\">\n",
       "  <thead>\n",
       "    <tr style=\"text-align: right;\">\n",
       "      <th></th>\n",
       "      <th>number_of_casualties</th>\n",
       "    </tr>\n",
       "    <tr>\n",
       "      <th>postcode</th>\n",
       "      <th></th>\n",
       "    </tr>\n",
       "  </thead>\n",
       "  <tbody>\n",
       "    <tr>\n",
       "      <th>B32 1AG</th>\n",
       "      <td>29</td>\n",
       "    </tr>\n",
       "    <tr>\n",
       "      <th>OX20 1TE</th>\n",
       "      <td>29</td>\n",
       "    </tr>\n",
       "    <tr>\n",
       "      <th>SM7 3AS</th>\n",
       "      <td>27</td>\n",
       "    </tr>\n",
       "    <tr>\n",
       "      <th>LE6 0GF</th>\n",
       "      <td>27</td>\n",
       "    </tr>\n",
       "    <tr>\n",
       "      <th>AB11 6JS</th>\n",
       "      <td>26</td>\n",
       "    </tr>\n",
       "    <tr>\n",
       "      <th>MK10 9AP</th>\n",
       "      <td>26</td>\n",
       "    </tr>\n",
       "    <tr>\n",
       "      <th>WR5 3TL</th>\n",
       "      <td>26</td>\n",
       "    </tr>\n",
       "    <tr>\n",
       "      <th>TQ10 9ER</th>\n",
       "      <td>26</td>\n",
       "    </tr>\n",
       "    <tr>\n",
       "      <th>ST11 9FF</th>\n",
       "      <td>25</td>\n",
       "    </tr>\n",
       "    <tr>\n",
       "      <th>SA61 1EP</th>\n",
       "      <td>25</td>\n",
       "    </tr>\n",
       "  </tbody>\n",
       "</table>\n",
       "</div>"
      ],
      "text/plain": [
       "          number_of_casualties\n",
       "postcode                      \n",
       "B32 1AG                     29\n",
       "OX20 1TE                    29\n",
       "SM7 3AS                     27\n",
       "LE6 0GF                     27\n",
       "AB11 6JS                    26\n",
       "MK10 9AP                    26\n",
       "WR5 3TL                     26\n",
       "TQ10 9ER                    26\n",
       "ST11 9FF                    25\n",
       "SA61 1EP                    25"
      ]
     },
     "metadata": {},
     "execution_count": 85
    }
   ],
   "metadata": {}
  },
  {
   "cell_type": "code",
   "execution_count": 86,
   "source": [
    "raw_data['number_of_casualties']"
   ],
   "outputs": [
    {
     "output_type": "execute_result",
     "data": {
      "text/plain": [
       "0         1\n",
       "1         1\n",
       "2         1\n",
       "3         1\n",
       "4         1\n",
       "         ..\n",
       "478736    1\n",
       "478737    1\n",
       "478738    4\n",
       "478739    1\n",
       "478740    1\n",
       "Name: number_of_casualties, Length: 478741, dtype: int64"
      ]
     },
     "metadata": {},
     "execution_count": 86
    }
   ],
   "metadata": {}
  },
  {
   "cell_type": "code",
   "execution_count": 87,
   "source": [
    "train = pd.merge(raw_data,aggregated_['accident_risk_index'],'right','postcode')"
   ],
   "outputs": [],
   "metadata": {}
  },
  {
   "cell_type": "code",
   "execution_count": 88,
   "source": [
    "drp_col"
   ],
   "outputs": [
    {
     "output_type": "execute_result",
     "data": {
      "text/plain": [
       "['1st_road_number', '2nd_road_number', 'country', 'accident_id']"
      ]
     },
     "metadata": {},
     "execution_count": 88
    }
   ],
   "metadata": {}
  },
  {
   "cell_type": "code",
   "execution_count": 89,
   "source": [
    "train.drop(drp_col, inplace=True, axis=1)"
   ],
   "outputs": [],
   "metadata": {}
  },
  {
   "cell_type": "code",
   "execution_count": 90,
   "source": [
    "train.head(1).T"
   ],
   "outputs": [
    {
     "output_type": "execute_result",
     "data": {
      "text/html": [
       "<div>\n",
       "<style scoped>\n",
       "    .dataframe tbody tr th:only-of-type {\n",
       "        vertical-align: middle;\n",
       "    }\n",
       "\n",
       "    .dataframe tbody tr th {\n",
       "        vertical-align: top;\n",
       "    }\n",
       "\n",
       "    .dataframe thead th {\n",
       "        text-align: right;\n",
       "    }\n",
       "</style>\n",
       "<table border=\"1\" class=\"dataframe\">\n",
       "  <thead>\n",
       "    <tr style=\"text-align: right;\">\n",
       "      <th></th>\n",
       "      <th>0</th>\n",
       "    </tr>\n",
       "  </thead>\n",
       "  <tbody>\n",
       "    <tr>\n",
       "      <th>police_force</th>\n",
       "      <td>46</td>\n",
       "    </tr>\n",
       "    <tr>\n",
       "      <th>number_of_vehicles</th>\n",
       "      <td>2</td>\n",
       "    </tr>\n",
       "    <tr>\n",
       "      <th>number_of_casualties</th>\n",
       "      <td>2</td>\n",
       "    </tr>\n",
       "    <tr>\n",
       "      <th>date</th>\n",
       "      <td>12/03/12</td>\n",
       "    </tr>\n",
       "    <tr>\n",
       "      <th>day_of_week</th>\n",
       "      <td>6</td>\n",
       "    </tr>\n",
       "    <tr>\n",
       "      <th>time</th>\n",
       "      <td>19:00</td>\n",
       "    </tr>\n",
       "    <tr>\n",
       "      <th>local_authority_district_</th>\n",
       "      <td>474</td>\n",
       "    </tr>\n",
       "    <tr>\n",
       "      <th>local_authority_highway_</th>\n",
       "      <td>E06000021</td>\n",
       "    </tr>\n",
       "    <tr>\n",
       "      <th>1st_road_class</th>\n",
       "      <td>6</td>\n",
       "    </tr>\n",
       "    <tr>\n",
       "      <th>road_type</th>\n",
       "      <td>Roundabout</td>\n",
       "    </tr>\n",
       "    <tr>\n",
       "      <th>speed_limit</th>\n",
       "      <td>30</td>\n",
       "    </tr>\n",
       "    <tr>\n",
       "      <th>2nd_road_class</th>\n",
       "      <td>-1</td>\n",
       "    </tr>\n",
       "    <tr>\n",
       "      <th>pedestrian_crossing_human_control</th>\n",
       "      <td>None within 50 metres</td>\n",
       "    </tr>\n",
       "    <tr>\n",
       "      <th>pedestrian_crossing_physical_facilities</th>\n",
       "      <td>No physical crossing within 50 meters</td>\n",
       "    </tr>\n",
       "    <tr>\n",
       "      <th>light_conditions</th>\n",
       "      <td>Daylight: Street light present</td>\n",
       "    </tr>\n",
       "    <tr>\n",
       "      <th>weather_conditions</th>\n",
       "      <td>Raining with high winds</td>\n",
       "    </tr>\n",
       "    <tr>\n",
       "      <th>road_surface_conditions</th>\n",
       "      <td>Dry</td>\n",
       "    </tr>\n",
       "    <tr>\n",
       "      <th>special_conditions_at_site</th>\n",
       "      <td>None</td>\n",
       "    </tr>\n",
       "    <tr>\n",
       "      <th>carriageway_hazards</th>\n",
       "      <td>None</td>\n",
       "    </tr>\n",
       "    <tr>\n",
       "      <th>urban_or_rural_area</th>\n",
       "      <td>1</td>\n",
       "    </tr>\n",
       "    <tr>\n",
       "      <th>did_police_officer_attend_scene_of_accident</th>\n",
       "      <td>Yes</td>\n",
       "    </tr>\n",
       "    <tr>\n",
       "      <th>state</th>\n",
       "      <td>England</td>\n",
       "    </tr>\n",
       "    <tr>\n",
       "      <th>postcode</th>\n",
       "      <td>AB10 1AU</td>\n",
       "    </tr>\n",
       "    <tr>\n",
       "      <th>Date_time</th>\n",
       "      <td>2012-12-03 19:00:00</td>\n",
       "    </tr>\n",
       "    <tr>\n",
       "      <th>accident_risk_index</th>\n",
       "      <td>0.375</td>\n",
       "    </tr>\n",
       "  </tbody>\n",
       "</table>\n",
       "</div>"
      ],
      "text/plain": [
       "                                                                                 0\n",
       "police_force                                                                    46\n",
       "number_of_vehicles                                                               2\n",
       "number_of_casualties                                                             2\n",
       "date                                                                      12/03/12\n",
       "day_of_week                                                                      6\n",
       "time                                                                         19:00\n",
       "local_authority_district_                                                      474\n",
       "local_authority_highway_                                                 E06000021\n",
       "1st_road_class                                                                   6\n",
       "road_type                                                               Roundabout\n",
       "speed_limit                                                                     30\n",
       "2nd_road_class                                                                  -1\n",
       "pedestrian_crossing_human_control                            None within 50 metres\n",
       "pedestrian_crossing_physical_facilities      No physical crossing within 50 meters\n",
       "light_conditions                                    Daylight: Street light present\n",
       "weather_conditions                                         Raining with high winds\n",
       "road_surface_conditions                                                        Dry\n",
       "special_conditions_at_site                                                    None\n",
       "carriageway_hazards                                                           None\n",
       "urban_or_rural_area                                                              1\n",
       "did_police_officer_attend_scene_of_accident                                    Yes\n",
       "state                                                                      England\n",
       "postcode                                                                  AB10 1AU\n",
       "Date_time                                                      2012-12-03 19:00:00\n",
       "accident_risk_index                                                          0.375"
      ]
     },
     "metadata": {},
     "execution_count": 90
    }
   ],
   "metadata": {}
  },
  {
   "cell_type": "markdown",
   "source": [],
   "metadata": {}
  },
  {
   "cell_type": "markdown",
   "source": [
    "## V. Feature Engg"
   ],
   "metadata": {}
  },
  {
   "cell_type": "markdown",
   "source": [
    "The following inspired from https://www.kaggle.com/code/brittabettendorf/predicting-number-of-casualties/notebook \n",
    "\n",
    "Next, let's define a new column that groups the Time the accidents happened into one of five options:\n",
    "\n",
    "Morning Rush from 5am to 10am --> value 1\n",
    "Office Hours from 10am to 3pm (or: 10:00 - 15:00) --> value 2\n",
    "Afternoon Rush from 3pm to 7pm (or: 15:00 - 19:00) --> value 3\n",
    "Evening from 7pm to 11pm (or: 19:00 - 23:00) --> value 4\n",
    "Night from 11pm to 5am (or: 23:00 - 05:00) --> value 5"
   ],
   "metadata": {}
  },
  {
   "cell_type": "code",
   "execution_count": 91,
   "source": [
    "raw_data.head(1).T"
   ],
   "outputs": [
    {
     "output_type": "execute_result",
     "data": {
      "text/html": [
       "<div>\n",
       "<style scoped>\n",
       "    .dataframe tbody tr th:only-of-type {\n",
       "        vertical-align: middle;\n",
       "    }\n",
       "\n",
       "    .dataframe tbody tr th {\n",
       "        vertical-align: top;\n",
       "    }\n",
       "\n",
       "    .dataframe thead th {\n",
       "        text-align: right;\n",
       "    }\n",
       "</style>\n",
       "<table border=\"1\" class=\"dataframe\">\n",
       "  <thead>\n",
       "    <tr style=\"text-align: right;\">\n",
       "      <th></th>\n",
       "      <th>0</th>\n",
       "    </tr>\n",
       "  </thead>\n",
       "  <tbody>\n",
       "    <tr>\n",
       "      <th>accident_id</th>\n",
       "      <td>1</td>\n",
       "    </tr>\n",
       "    <tr>\n",
       "      <th>police_force</th>\n",
       "      <td>34</td>\n",
       "    </tr>\n",
       "    <tr>\n",
       "      <th>number_of_vehicles</th>\n",
       "      <td>2</td>\n",
       "    </tr>\n",
       "    <tr>\n",
       "      <th>number_of_casualties</th>\n",
       "      <td>1</td>\n",
       "    </tr>\n",
       "    <tr>\n",
       "      <th>date</th>\n",
       "      <td>19/12/12</td>\n",
       "    </tr>\n",
       "    <tr>\n",
       "      <th>day_of_week</th>\n",
       "      <td>7</td>\n",
       "    </tr>\n",
       "    <tr>\n",
       "      <th>time</th>\n",
       "      <td>13:20</td>\n",
       "    </tr>\n",
       "    <tr>\n",
       "      <th>local_authority_district_</th>\n",
       "      <td>344</td>\n",
       "    </tr>\n",
       "    <tr>\n",
       "      <th>local_authority_highway_</th>\n",
       "      <td>E10000032</td>\n",
       "    </tr>\n",
       "    <tr>\n",
       "      <th>1st_road_class</th>\n",
       "      <td>4</td>\n",
       "    </tr>\n",
       "    <tr>\n",
       "      <th>1st_road_number</th>\n",
       "      <td>395</td>\n",
       "    </tr>\n",
       "    <tr>\n",
       "      <th>road_type</th>\n",
       "      <td>Single carriageway</td>\n",
       "    </tr>\n",
       "    <tr>\n",
       "      <th>speed_limit</th>\n",
       "      <td>30</td>\n",
       "    </tr>\n",
       "    <tr>\n",
       "      <th>2nd_road_class</th>\n",
       "      <td>-1</td>\n",
       "    </tr>\n",
       "    <tr>\n",
       "      <th>2nd_road_number</th>\n",
       "      <td>0</td>\n",
       "    </tr>\n",
       "    <tr>\n",
       "      <th>pedestrian_crossing_human_control</th>\n",
       "      <td>None within 50 metres</td>\n",
       "    </tr>\n",
       "    <tr>\n",
       "      <th>pedestrian_crossing_physical_facilities</th>\n",
       "      <td>No physical crossing within 50 meters</td>\n",
       "    </tr>\n",
       "    <tr>\n",
       "      <th>light_conditions</th>\n",
       "      <td>Daylight: Street light present</td>\n",
       "    </tr>\n",
       "    <tr>\n",
       "      <th>weather_conditions</th>\n",
       "      <td>Fine without high winds</td>\n",
       "    </tr>\n",
       "    <tr>\n",
       "      <th>road_surface_conditions</th>\n",
       "      <td>Dry</td>\n",
       "    </tr>\n",
       "    <tr>\n",
       "      <th>special_conditions_at_site</th>\n",
       "      <td>Ol or diesel</td>\n",
       "    </tr>\n",
       "    <tr>\n",
       "      <th>carriageway_hazards</th>\n",
       "      <td>None</td>\n",
       "    </tr>\n",
       "    <tr>\n",
       "      <th>urban_or_rural_area</th>\n",
       "      <td>1</td>\n",
       "    </tr>\n",
       "    <tr>\n",
       "      <th>did_police_officer_attend_scene_of_accident</th>\n",
       "      <td>Yes</td>\n",
       "    </tr>\n",
       "    <tr>\n",
       "      <th>state</th>\n",
       "      <td>England</td>\n",
       "    </tr>\n",
       "    <tr>\n",
       "      <th>postcode</th>\n",
       "      <td>OX3 9UP</td>\n",
       "    </tr>\n",
       "    <tr>\n",
       "      <th>country</th>\n",
       "      <td>United Kingdom</td>\n",
       "    </tr>\n",
       "    <tr>\n",
       "      <th>Date_time</th>\n",
       "      <td>2012-12-19 13:20:00</td>\n",
       "    </tr>\n",
       "  </tbody>\n",
       "</table>\n",
       "</div>"
      ],
      "text/plain": [
       "                                                                                 0\n",
       "accident_id                                                                      1\n",
       "police_force                                                                    34\n",
       "number_of_vehicles                                                               2\n",
       "number_of_casualties                                                             1\n",
       "date                                                                      19/12/12\n",
       "day_of_week                                                                      7\n",
       "time                                                                         13:20\n",
       "local_authority_district_                                                      344\n",
       "local_authority_highway_                                                 E10000032\n",
       "1st_road_class                                                                   4\n",
       "1st_road_number                                                                395\n",
       "road_type                                                       Single carriageway\n",
       "speed_limit                                                                     30\n",
       "2nd_road_class                                                                  -1\n",
       "2nd_road_number                                                                  0\n",
       "pedestrian_crossing_human_control                            None within 50 metres\n",
       "pedestrian_crossing_physical_facilities      No physical crossing within 50 meters\n",
       "light_conditions                                    Daylight: Street light present\n",
       "weather_conditions                                         Fine without high winds\n",
       "road_surface_conditions                                                        Dry\n",
       "special_conditions_at_site                                            Ol or diesel\n",
       "carriageway_hazards                                                           None\n",
       "urban_or_rural_area                                                              1\n",
       "did_police_officer_attend_scene_of_accident                                    Yes\n",
       "state                                                                      England\n",
       "postcode                                                                   OX3 9UP\n",
       "country                                                             United Kingdom\n",
       "Date_time                                                      2012-12-19 13:20:00"
      ]
     },
     "metadata": {},
     "execution_count": 91
    }
   ],
   "metadata": {}
  },
  {
   "cell_type": "code",
   "execution_count": 92,
   "source": [
    "def time_labeler(col):\n",
    "    '''\n",
    "    This function \n",
    "    '''\n",
    "    print(col)\n",
    "    hour = col.split(':')[0]\n",
    "    \n",
    "    hour = int(hour)\n",
    "    print(hour)\n",
    "    if 0<hour<6:\n",
    "        print(1)\n",
    "        return 1\n",
    "    elif 7<hour<12:\n",
    "        print(2)\n",
    "        return 2\n",
    "    elif 13<hour<18:\n",
    "        print(3)\n",
    "        return 3\n",
    "    elif 19<hour<18:\n",
    "        print(4)\n",
    "        return 4"
   ],
   "outputs": [],
   "metadata": {}
  },
  {
   "cell_type": "code",
   "execution_count": 93,
   "source": [
    "def when_was_it(col):\n",
    "    '''\n",
    "    This function creates the mapping mentioned in the Descriptive analysis\n",
    "    '''\n",
    "    hour = col.split(':')[0]\n",
    "    hour = int(hour)\n",
    "    if hour >= 5 and hour < 10:\n",
    "        return \"1\"\n",
    "    elif hour >= 10 and hour < 15:\n",
    "        return \"2\"\n",
    "    elif hour >= 15 and hour < 19:\n",
    "        return \"3\"\n",
    "    elif hour >= 19 and hour < 23:\n",
    "        return \"4\"\n",
    "    else:\n",
    "        return \"5\""
   ],
   "outputs": [],
   "metadata": {}
  },
  {
   "cell_type": "code",
   "execution_count": 94,
   "source": [
    "raw_data['time_cat'] = raw_data['time'].apply(when_was_it)\n",
    "# time_cat column is the categorical variable which tells the part of the day we did the binning here"
   ],
   "outputs": [],
   "metadata": {}
  },
  {
   "cell_type": "code",
   "execution_count": 95,
   "source": [
    "raw_data.head(1).T"
   ],
   "outputs": [
    {
     "output_type": "execute_result",
     "data": {
      "text/html": [
       "<div>\n",
       "<style scoped>\n",
       "    .dataframe tbody tr th:only-of-type {\n",
       "        vertical-align: middle;\n",
       "    }\n",
       "\n",
       "    .dataframe tbody tr th {\n",
       "        vertical-align: top;\n",
       "    }\n",
       "\n",
       "    .dataframe thead th {\n",
       "        text-align: right;\n",
       "    }\n",
       "</style>\n",
       "<table border=\"1\" class=\"dataframe\">\n",
       "  <thead>\n",
       "    <tr style=\"text-align: right;\">\n",
       "      <th></th>\n",
       "      <th>0</th>\n",
       "    </tr>\n",
       "  </thead>\n",
       "  <tbody>\n",
       "    <tr>\n",
       "      <th>accident_id</th>\n",
       "      <td>1</td>\n",
       "    </tr>\n",
       "    <tr>\n",
       "      <th>police_force</th>\n",
       "      <td>34</td>\n",
       "    </tr>\n",
       "    <tr>\n",
       "      <th>number_of_vehicles</th>\n",
       "      <td>2</td>\n",
       "    </tr>\n",
       "    <tr>\n",
       "      <th>number_of_casualties</th>\n",
       "      <td>1</td>\n",
       "    </tr>\n",
       "    <tr>\n",
       "      <th>date</th>\n",
       "      <td>19/12/12</td>\n",
       "    </tr>\n",
       "    <tr>\n",
       "      <th>day_of_week</th>\n",
       "      <td>7</td>\n",
       "    </tr>\n",
       "    <tr>\n",
       "      <th>time</th>\n",
       "      <td>13:20</td>\n",
       "    </tr>\n",
       "    <tr>\n",
       "      <th>local_authority_district_</th>\n",
       "      <td>344</td>\n",
       "    </tr>\n",
       "    <tr>\n",
       "      <th>local_authority_highway_</th>\n",
       "      <td>E10000032</td>\n",
       "    </tr>\n",
       "    <tr>\n",
       "      <th>1st_road_class</th>\n",
       "      <td>4</td>\n",
       "    </tr>\n",
       "    <tr>\n",
       "      <th>1st_road_number</th>\n",
       "      <td>395</td>\n",
       "    </tr>\n",
       "    <tr>\n",
       "      <th>road_type</th>\n",
       "      <td>Single carriageway</td>\n",
       "    </tr>\n",
       "    <tr>\n",
       "      <th>speed_limit</th>\n",
       "      <td>30</td>\n",
       "    </tr>\n",
       "    <tr>\n",
       "      <th>2nd_road_class</th>\n",
       "      <td>-1</td>\n",
       "    </tr>\n",
       "    <tr>\n",
       "      <th>2nd_road_number</th>\n",
       "      <td>0</td>\n",
       "    </tr>\n",
       "    <tr>\n",
       "      <th>pedestrian_crossing_human_control</th>\n",
       "      <td>None within 50 metres</td>\n",
       "    </tr>\n",
       "    <tr>\n",
       "      <th>pedestrian_crossing_physical_facilities</th>\n",
       "      <td>No physical crossing within 50 meters</td>\n",
       "    </tr>\n",
       "    <tr>\n",
       "      <th>light_conditions</th>\n",
       "      <td>Daylight: Street light present</td>\n",
       "    </tr>\n",
       "    <tr>\n",
       "      <th>weather_conditions</th>\n",
       "      <td>Fine without high winds</td>\n",
       "    </tr>\n",
       "    <tr>\n",
       "      <th>road_surface_conditions</th>\n",
       "      <td>Dry</td>\n",
       "    </tr>\n",
       "    <tr>\n",
       "      <th>special_conditions_at_site</th>\n",
       "      <td>Ol or diesel</td>\n",
       "    </tr>\n",
       "    <tr>\n",
       "      <th>carriageway_hazards</th>\n",
       "      <td>None</td>\n",
       "    </tr>\n",
       "    <tr>\n",
       "      <th>urban_or_rural_area</th>\n",
       "      <td>1</td>\n",
       "    </tr>\n",
       "    <tr>\n",
       "      <th>did_police_officer_attend_scene_of_accident</th>\n",
       "      <td>Yes</td>\n",
       "    </tr>\n",
       "    <tr>\n",
       "      <th>state</th>\n",
       "      <td>England</td>\n",
       "    </tr>\n",
       "    <tr>\n",
       "      <th>postcode</th>\n",
       "      <td>OX3 9UP</td>\n",
       "    </tr>\n",
       "    <tr>\n",
       "      <th>country</th>\n",
       "      <td>United Kingdom</td>\n",
       "    </tr>\n",
       "    <tr>\n",
       "      <th>Date_time</th>\n",
       "      <td>2012-12-19 13:20:00</td>\n",
       "    </tr>\n",
       "    <tr>\n",
       "      <th>time_cat</th>\n",
       "      <td>2</td>\n",
       "    </tr>\n",
       "  </tbody>\n",
       "</table>\n",
       "</div>"
      ],
      "text/plain": [
       "                                                                                 0\n",
       "accident_id                                                                      1\n",
       "police_force                                                                    34\n",
       "number_of_vehicles                                                               2\n",
       "number_of_casualties                                                             1\n",
       "date                                                                      19/12/12\n",
       "day_of_week                                                                      7\n",
       "time                                                                         13:20\n",
       "local_authority_district_                                                      344\n",
       "local_authority_highway_                                                 E10000032\n",
       "1st_road_class                                                                   4\n",
       "1st_road_number                                                                395\n",
       "road_type                                                       Single carriageway\n",
       "speed_limit                                                                     30\n",
       "2nd_road_class                                                                  -1\n",
       "2nd_road_number                                                                  0\n",
       "pedestrian_crossing_human_control                            None within 50 metres\n",
       "pedestrian_crossing_physical_facilities      No physical crossing within 50 meters\n",
       "light_conditions                                    Daylight: Street light present\n",
       "weather_conditions                                         Fine without high winds\n",
       "road_surface_conditions                                                        Dry\n",
       "special_conditions_at_site                                            Ol or diesel\n",
       "carriageway_hazards                                                           None\n",
       "urban_or_rural_area                                                              1\n",
       "did_police_officer_attend_scene_of_accident                                    Yes\n",
       "state                                                                      England\n",
       "postcode                                                                   OX3 9UP\n",
       "country                                                             United Kingdom\n",
       "Date_time                                                      2012-12-19 13:20:00\n",
       "time_cat                                                                         2"
      ]
     },
     "metadata": {},
     "execution_count": 95
    }
   ],
   "metadata": {}
  },
  {
   "cell_type": "markdown",
   "source": [
    "## Delete some more columns"
   ],
   "metadata": {}
  },
  {
   "cell_type": "code",
   "execution_count": 96,
   "source": [
    "raw_data.drop(['local_authority_highway_', 'date', 'Date_time', 'time', 'accident_id',], inplace=True, axis=1)\n"
   ],
   "outputs": [],
   "metadata": {}
  },
  {
   "cell_type": "code",
   "execution_count": 97,
   "source": [
    "raw_data.columns"
   ],
   "outputs": [
    {
     "output_type": "execute_result",
     "data": {
      "text/plain": [
       "Index(['police_force', 'number_of_vehicles', 'number_of_casualties',\n",
       "       'day_of_week', 'local_authority_district_', '1st_road_class',\n",
       "       '1st_road_number', 'road_type', 'speed_limit', '2nd_road_class',\n",
       "       '2nd_road_number', 'pedestrian_crossing_human_control',\n",
       "       'pedestrian_crossing_physical_facilities', 'light_conditions',\n",
       "       'weather_conditions', 'road_surface_conditions',\n",
       "       'special_conditions_at_site', 'carriageway_hazards',\n",
       "       'urban_or_rural_area', 'did_police_officer_attend_scene_of_accident',\n",
       "       'state', 'postcode', 'country', 'time_cat'],\n",
       "      dtype='object')"
      ]
     },
     "metadata": {},
     "execution_count": 97
    }
   ],
   "metadata": {}
  },
  {
   "cell_type": "code",
   "execution_count": 98,
   "source": [
    "num_col"
   ],
   "outputs": [
    {
     "output_type": "execute_result",
     "data": {
      "text/plain": [
       "['police_force', 'local_authority_district_']"
      ]
     },
     "metadata": {},
     "execution_count": 98
    }
   ],
   "metadata": {}
  },
  {
   "cell_type": "code",
   "execution_count": 99,
   "source": [
    "cat_cols2 = ['number_of_vehicles',\n",
    "       'day_of_week',  '1st_road_class',\n",
    "       '1st_road_number', 'road_type', 'speed_limit', '2nd_road_class',\n",
    "       '2nd_road_number', 'pedestrian_crossing_human_control',\n",
    "       'pedestrian_crossing_physical_facilities', 'light_conditions',\n",
    "       'weather_conditions', 'road_surface_conditions',\n",
    "       'special_conditions_at_site', 'carriageway_hazards',\n",
    "       'urban_or_rural_area', 'did_police_officer_attend_scene_of_accident',\n",
    "       'state', 'postcode', 'country', 'time_cat']"
   ],
   "outputs": [],
   "metadata": {}
  },
  {
   "cell_type": "code",
   "execution_count": 100,
   "source": [
    "len(cat_cols2 + num_col)"
   ],
   "outputs": [
    {
     "output_type": "execute_result",
     "data": {
      "text/plain": [
       "23"
      ]
     },
     "metadata": {},
     "execution_count": 100
    }
   ],
   "metadata": {}
  },
  {
   "cell_type": "code",
   "execution_count": 101,
   "source": [
    "le = LabelEncoder()"
   ],
   "outputs": [],
   "metadata": {}
  },
  {
   "cell_type": "code",
   "execution_count": 102,
   "source": [
    "data_train = raw_data.copy()"
   ],
   "outputs": [],
   "metadata": {}
  },
  {
   "cell_type": "code",
   "execution_count": 103,
   "source": [
    "nvech = []\n",
    "for column in cat_cols2:\n",
    "    #print(column)\n",
    "    data_train[column] = le.fit_transform(data_train[column])"
   ],
   "outputs": [],
   "metadata": {}
  },
  {
   "cell_type": "code",
   "execution_count": 104,
   "source": [
    "data_train.dtypes"
   ],
   "outputs": [
    {
     "output_type": "execute_result",
     "data": {
      "text/plain": [
       "police_force                                   int64\n",
       "number_of_vehicles                             int64\n",
       "number_of_casualties                           int64\n",
       "day_of_week                                    int64\n",
       "local_authority_district_                      int64\n",
       "1st_road_class                                 int64\n",
       "1st_road_number                                int64\n",
       "road_type                                      int64\n",
       "speed_limit                                    int64\n",
       "2nd_road_class                                 int64\n",
       "2nd_road_number                                int64\n",
       "pedestrian_crossing_human_control              int64\n",
       "pedestrian_crossing_physical_facilities        int64\n",
       "light_conditions                               int64\n",
       "weather_conditions                             int64\n",
       "road_surface_conditions                        int64\n",
       "special_conditions_at_site                     int64\n",
       "carriageway_hazards                            int64\n",
       "urban_or_rural_area                            int64\n",
       "did_police_officer_attend_scene_of_accident    int64\n",
       "state                                          int64\n",
       "postcode                                       int64\n",
       "country                                        int64\n",
       "time_cat                                       int64\n",
       "dtype: object"
      ]
     },
     "metadata": {},
     "execution_count": 104
    }
   ],
   "metadata": {}
  },
  {
   "cell_type": "code",
   "execution_count": 105,
   "source": [
    "data_train.isnull().sum()"
   ],
   "outputs": [
    {
     "output_type": "execute_result",
     "data": {
      "text/plain": [
       "police_force                                   0\n",
       "number_of_vehicles                             0\n",
       "number_of_casualties                           0\n",
       "day_of_week                                    0\n",
       "local_authority_district_                      0\n",
       "1st_road_class                                 0\n",
       "1st_road_number                                0\n",
       "road_type                                      0\n",
       "speed_limit                                    0\n",
       "2nd_road_class                                 0\n",
       "2nd_road_number                                0\n",
       "pedestrian_crossing_human_control              0\n",
       "pedestrian_crossing_physical_facilities        0\n",
       "light_conditions                               0\n",
       "weather_conditions                             0\n",
       "road_surface_conditions                        0\n",
       "special_conditions_at_site                     0\n",
       "carriageway_hazards                            0\n",
       "urban_or_rural_area                            0\n",
       "did_police_officer_attend_scene_of_accident    0\n",
       "state                                          0\n",
       "postcode                                       0\n",
       "country                                        0\n",
       "time_cat                                       0\n",
       "dtype: int64"
      ]
     },
     "metadata": {},
     "execution_count": 105
    }
   ],
   "metadata": {}
  },
  {
   "cell_type": "code",
   "execution_count": 106,
   "source": [
    "train_new = train.drop(['accident_risk_index', 'Date_time', 'date'], axis=1)"
   ],
   "outputs": [],
   "metadata": {}
  },
  {
   "cell_type": "code",
   "execution_count": 107,
   "source": [
    "data_train['number_of_casualties'] = train['number_of_casualties']"
   ],
   "outputs": [],
   "metadata": {}
  },
  {
   "cell_type": "code",
   "execution_count": 108,
   "source": [
    "from pycaret.regression import *"
   ],
   "outputs": [],
   "metadata": {}
  },
  {
   "cell_type": "markdown",
   "source": [],
   "metadata": {}
  },
  {
   "cell_type": "code",
   "execution_count": 110,
   "source": [
    "expirement = setup(data = data_train,  target = 'number_of_casualties', silent=True,train_size=0.8)\n"
   ],
   "outputs": [
    {
     "output_type": "display_data",
     "data": {
      "text/html": [
       "<style type=\"text/css\">\n",
       "#T_16755_row42_col1 {\n",
       "  background-color: lightgreen;\n",
       "}\n",
       "</style>\n",
       "<table id=\"T_16755\">\n",
       "  <thead>\n",
       "    <tr>\n",
       "      <th class=\"blank level0\" >&nbsp;</th>\n",
       "      <th id=\"T_16755_level0_col0\" class=\"col_heading level0 col0\" >Description</th>\n",
       "      <th id=\"T_16755_level0_col1\" class=\"col_heading level0 col1\" >Value</th>\n",
       "    </tr>\n",
       "  </thead>\n",
       "  <tbody>\n",
       "    <tr>\n",
       "      <th id=\"T_16755_level0_row0\" class=\"row_heading level0 row0\" >0</th>\n",
       "      <td id=\"T_16755_row0_col0\" class=\"data row0 col0\" >session_id</td>\n",
       "      <td id=\"T_16755_row0_col1\" class=\"data row0 col1\" >5517</td>\n",
       "    </tr>\n",
       "    <tr>\n",
       "      <th id=\"T_16755_level0_row1\" class=\"row_heading level0 row1\" >1</th>\n",
       "      <td id=\"T_16755_row1_col0\" class=\"data row1 col0\" >Target</td>\n",
       "      <td id=\"T_16755_row1_col1\" class=\"data row1 col1\" >number_of_casualties</td>\n",
       "    </tr>\n",
       "    <tr>\n",
       "      <th id=\"T_16755_level0_row2\" class=\"row_heading level0 row2\" >2</th>\n",
       "      <td id=\"T_16755_row2_col0\" class=\"data row2 col0\" >Original Data</td>\n",
       "      <td id=\"T_16755_row2_col1\" class=\"data row2 col1\" >(478741, 24)</td>\n",
       "    </tr>\n",
       "    <tr>\n",
       "      <th id=\"T_16755_level0_row3\" class=\"row_heading level0 row3\" >3</th>\n",
       "      <td id=\"T_16755_row3_col0\" class=\"data row3 col0\" >Missing Values</td>\n",
       "      <td id=\"T_16755_row3_col1\" class=\"data row3 col1\" >0</td>\n",
       "    </tr>\n",
       "    <tr>\n",
       "      <th id=\"T_16755_level0_row4\" class=\"row_heading level0 row4\" >4</th>\n",
       "      <td id=\"T_16755_row4_col0\" class=\"data row4 col0\" >Numeric Features</td>\n",
       "      <td id=\"T_16755_row4_col1\" class=\"data row4 col1\" >4</td>\n",
       "    </tr>\n",
       "    <tr>\n",
       "      <th id=\"T_16755_level0_row5\" class=\"row_heading level0 row5\" >5</th>\n",
       "      <td id=\"T_16755_row5_col0\" class=\"data row5 col0\" >Categorical Features</td>\n",
       "      <td id=\"T_16755_row5_col1\" class=\"data row5 col1\" >19</td>\n",
       "    </tr>\n",
       "    <tr>\n",
       "      <th id=\"T_16755_level0_row6\" class=\"row_heading level0 row6\" >6</th>\n",
       "      <td id=\"T_16755_row6_col0\" class=\"data row6 col0\" >Ordinal Features</td>\n",
       "      <td id=\"T_16755_row6_col1\" class=\"data row6 col1\" >0</td>\n",
       "    </tr>\n",
       "    <tr>\n",
       "      <th id=\"T_16755_level0_row7\" class=\"row_heading level0 row7\" >7</th>\n",
       "      <td id=\"T_16755_row7_col0\" class=\"data row7 col0\" >High Cardinality Features</td>\n",
       "      <td id=\"T_16755_row7_col1\" class=\"data row7 col1\" >0</td>\n",
       "    </tr>\n",
       "    <tr>\n",
       "      <th id=\"T_16755_level0_row8\" class=\"row_heading level0 row8\" >8</th>\n",
       "      <td id=\"T_16755_row8_col0\" class=\"data row8 col0\" >High Cardinality Method</td>\n",
       "      <td id=\"T_16755_row8_col1\" class=\"data row8 col1\" >None</td>\n",
       "    </tr>\n",
       "    <tr>\n",
       "      <th id=\"T_16755_level0_row9\" class=\"row_heading level0 row9\" >9</th>\n",
       "      <td id=\"T_16755_row9_col0\" class=\"data row9 col0\" >Transformed Train Set</td>\n",
       "      <td id=\"T_16755_row9_col1\" class=\"data row9 col1\" >(382992, 90)</td>\n",
       "    </tr>\n",
       "    <tr>\n",
       "      <th id=\"T_16755_level0_row10\" class=\"row_heading level0 row10\" >10</th>\n",
       "      <td id=\"T_16755_row10_col0\" class=\"data row10 col0\" >Transformed Test Set</td>\n",
       "      <td id=\"T_16755_row10_col1\" class=\"data row10 col1\" >(95749, 90)</td>\n",
       "    </tr>\n",
       "    <tr>\n",
       "      <th id=\"T_16755_level0_row11\" class=\"row_heading level0 row11\" >11</th>\n",
       "      <td id=\"T_16755_row11_col0\" class=\"data row11 col0\" >Shuffle Train-Test</td>\n",
       "      <td id=\"T_16755_row11_col1\" class=\"data row11 col1\" >True</td>\n",
       "    </tr>\n",
       "    <tr>\n",
       "      <th id=\"T_16755_level0_row12\" class=\"row_heading level0 row12\" >12</th>\n",
       "      <td id=\"T_16755_row12_col0\" class=\"data row12 col0\" >Stratify Train-Test</td>\n",
       "      <td id=\"T_16755_row12_col1\" class=\"data row12 col1\" >False</td>\n",
       "    </tr>\n",
       "    <tr>\n",
       "      <th id=\"T_16755_level0_row13\" class=\"row_heading level0 row13\" >13</th>\n",
       "      <td id=\"T_16755_row13_col0\" class=\"data row13 col0\" >Fold Generator</td>\n",
       "      <td id=\"T_16755_row13_col1\" class=\"data row13 col1\" >KFold</td>\n",
       "    </tr>\n",
       "    <tr>\n",
       "      <th id=\"T_16755_level0_row14\" class=\"row_heading level0 row14\" >14</th>\n",
       "      <td id=\"T_16755_row14_col0\" class=\"data row14 col0\" >Fold Number</td>\n",
       "      <td id=\"T_16755_row14_col1\" class=\"data row14 col1\" >10</td>\n",
       "    </tr>\n",
       "    <tr>\n",
       "      <th id=\"T_16755_level0_row15\" class=\"row_heading level0 row15\" >15</th>\n",
       "      <td id=\"T_16755_row15_col0\" class=\"data row15 col0\" >CPU Jobs</td>\n",
       "      <td id=\"T_16755_row15_col1\" class=\"data row15 col1\" >-1</td>\n",
       "    </tr>\n",
       "    <tr>\n",
       "      <th id=\"T_16755_level0_row16\" class=\"row_heading level0 row16\" >16</th>\n",
       "      <td id=\"T_16755_row16_col0\" class=\"data row16 col0\" >Use GPU</td>\n",
       "      <td id=\"T_16755_row16_col1\" class=\"data row16 col1\" >0</td>\n",
       "    </tr>\n",
       "    <tr>\n",
       "      <th id=\"T_16755_level0_row17\" class=\"row_heading level0 row17\" >17</th>\n",
       "      <td id=\"T_16755_row17_col0\" class=\"data row17 col0\" >Log Experiment</td>\n",
       "      <td id=\"T_16755_row17_col1\" class=\"data row17 col1\" >0</td>\n",
       "    </tr>\n",
       "    <tr>\n",
       "      <th id=\"T_16755_level0_row18\" class=\"row_heading level0 row18\" >18</th>\n",
       "      <td id=\"T_16755_row18_col0\" class=\"data row18 col0\" >Experiment Name</td>\n",
       "      <td id=\"T_16755_row18_col1\" class=\"data row18 col1\" >reg-default-name</td>\n",
       "    </tr>\n",
       "    <tr>\n",
       "      <th id=\"T_16755_level0_row19\" class=\"row_heading level0 row19\" >19</th>\n",
       "      <td id=\"T_16755_row19_col0\" class=\"data row19 col0\" >USI</td>\n",
       "      <td id=\"T_16755_row19_col1\" class=\"data row19 col1\" >4fd9</td>\n",
       "    </tr>\n",
       "    <tr>\n",
       "      <th id=\"T_16755_level0_row20\" class=\"row_heading level0 row20\" >20</th>\n",
       "      <td id=\"T_16755_row20_col0\" class=\"data row20 col0\" >Imputation Type</td>\n",
       "      <td id=\"T_16755_row20_col1\" class=\"data row20 col1\" >simple</td>\n",
       "    </tr>\n",
       "    <tr>\n",
       "      <th id=\"T_16755_level0_row21\" class=\"row_heading level0 row21\" >21</th>\n",
       "      <td id=\"T_16755_row21_col0\" class=\"data row21 col0\" >Iterative Imputation Iteration</td>\n",
       "      <td id=\"T_16755_row21_col1\" class=\"data row21 col1\" >None</td>\n",
       "    </tr>\n",
       "    <tr>\n",
       "      <th id=\"T_16755_level0_row22\" class=\"row_heading level0 row22\" >22</th>\n",
       "      <td id=\"T_16755_row22_col0\" class=\"data row22 col0\" >Numeric Imputer</td>\n",
       "      <td id=\"T_16755_row22_col1\" class=\"data row22 col1\" >mean</td>\n",
       "    </tr>\n",
       "    <tr>\n",
       "      <th id=\"T_16755_level0_row23\" class=\"row_heading level0 row23\" >23</th>\n",
       "      <td id=\"T_16755_row23_col0\" class=\"data row23 col0\" >Iterative Imputation Numeric Model</td>\n",
       "      <td id=\"T_16755_row23_col1\" class=\"data row23 col1\" >None</td>\n",
       "    </tr>\n",
       "    <tr>\n",
       "      <th id=\"T_16755_level0_row24\" class=\"row_heading level0 row24\" >24</th>\n",
       "      <td id=\"T_16755_row24_col0\" class=\"data row24 col0\" >Categorical Imputer</td>\n",
       "      <td id=\"T_16755_row24_col1\" class=\"data row24 col1\" >constant</td>\n",
       "    </tr>\n",
       "    <tr>\n",
       "      <th id=\"T_16755_level0_row25\" class=\"row_heading level0 row25\" >25</th>\n",
       "      <td id=\"T_16755_row25_col0\" class=\"data row25 col0\" >Iterative Imputation Categorical Model</td>\n",
       "      <td id=\"T_16755_row25_col1\" class=\"data row25 col1\" >None</td>\n",
       "    </tr>\n",
       "    <tr>\n",
       "      <th id=\"T_16755_level0_row26\" class=\"row_heading level0 row26\" >26</th>\n",
       "      <td id=\"T_16755_row26_col0\" class=\"data row26 col0\" >Unknown Categoricals Handling</td>\n",
       "      <td id=\"T_16755_row26_col1\" class=\"data row26 col1\" >least_frequent</td>\n",
       "    </tr>\n",
       "    <tr>\n",
       "      <th id=\"T_16755_level0_row27\" class=\"row_heading level0 row27\" >27</th>\n",
       "      <td id=\"T_16755_row27_col0\" class=\"data row27 col0\" >Normalize</td>\n",
       "      <td id=\"T_16755_row27_col1\" class=\"data row27 col1\" >0</td>\n",
       "    </tr>\n",
       "    <tr>\n",
       "      <th id=\"T_16755_level0_row28\" class=\"row_heading level0 row28\" >28</th>\n",
       "      <td id=\"T_16755_row28_col0\" class=\"data row28 col0\" >Normalize Method</td>\n",
       "      <td id=\"T_16755_row28_col1\" class=\"data row28 col1\" >None</td>\n",
       "    </tr>\n",
       "    <tr>\n",
       "      <th id=\"T_16755_level0_row29\" class=\"row_heading level0 row29\" >29</th>\n",
       "      <td id=\"T_16755_row29_col0\" class=\"data row29 col0\" >Transformation</td>\n",
       "      <td id=\"T_16755_row29_col1\" class=\"data row29 col1\" >0</td>\n",
       "    </tr>\n",
       "    <tr>\n",
       "      <th id=\"T_16755_level0_row30\" class=\"row_heading level0 row30\" >30</th>\n",
       "      <td id=\"T_16755_row30_col0\" class=\"data row30 col0\" >Transformation Method</td>\n",
       "      <td id=\"T_16755_row30_col1\" class=\"data row30 col1\" >None</td>\n",
       "    </tr>\n",
       "    <tr>\n",
       "      <th id=\"T_16755_level0_row31\" class=\"row_heading level0 row31\" >31</th>\n",
       "      <td id=\"T_16755_row31_col0\" class=\"data row31 col0\" >PCA</td>\n",
       "      <td id=\"T_16755_row31_col1\" class=\"data row31 col1\" >0</td>\n",
       "    </tr>\n",
       "    <tr>\n",
       "      <th id=\"T_16755_level0_row32\" class=\"row_heading level0 row32\" >32</th>\n",
       "      <td id=\"T_16755_row32_col0\" class=\"data row32 col0\" >PCA Method</td>\n",
       "      <td id=\"T_16755_row32_col1\" class=\"data row32 col1\" >None</td>\n",
       "    </tr>\n",
       "    <tr>\n",
       "      <th id=\"T_16755_level0_row33\" class=\"row_heading level0 row33\" >33</th>\n",
       "      <td id=\"T_16755_row33_col0\" class=\"data row33 col0\" >PCA Components</td>\n",
       "      <td id=\"T_16755_row33_col1\" class=\"data row33 col1\" >None</td>\n",
       "    </tr>\n",
       "    <tr>\n",
       "      <th id=\"T_16755_level0_row34\" class=\"row_heading level0 row34\" >34</th>\n",
       "      <td id=\"T_16755_row34_col0\" class=\"data row34 col0\" >Ignore Low Variance</td>\n",
       "      <td id=\"T_16755_row34_col1\" class=\"data row34 col1\" >0</td>\n",
       "    </tr>\n",
       "    <tr>\n",
       "      <th id=\"T_16755_level0_row35\" class=\"row_heading level0 row35\" >35</th>\n",
       "      <td id=\"T_16755_row35_col0\" class=\"data row35 col0\" >Combine Rare Levels</td>\n",
       "      <td id=\"T_16755_row35_col1\" class=\"data row35 col1\" >0</td>\n",
       "    </tr>\n",
       "    <tr>\n",
       "      <th id=\"T_16755_level0_row36\" class=\"row_heading level0 row36\" >36</th>\n",
       "      <td id=\"T_16755_row36_col0\" class=\"data row36 col0\" >Rare Level Threshold</td>\n",
       "      <td id=\"T_16755_row36_col1\" class=\"data row36 col1\" >None</td>\n",
       "    </tr>\n",
       "    <tr>\n",
       "      <th id=\"T_16755_level0_row37\" class=\"row_heading level0 row37\" >37</th>\n",
       "      <td id=\"T_16755_row37_col0\" class=\"data row37 col0\" >Numeric Binning</td>\n",
       "      <td id=\"T_16755_row37_col1\" class=\"data row37 col1\" >0</td>\n",
       "    </tr>\n",
       "    <tr>\n",
       "      <th id=\"T_16755_level0_row38\" class=\"row_heading level0 row38\" >38</th>\n",
       "      <td id=\"T_16755_row38_col0\" class=\"data row38 col0\" >Remove Outliers</td>\n",
       "      <td id=\"T_16755_row38_col1\" class=\"data row38 col1\" >0</td>\n",
       "    </tr>\n",
       "    <tr>\n",
       "      <th id=\"T_16755_level0_row39\" class=\"row_heading level0 row39\" >39</th>\n",
       "      <td id=\"T_16755_row39_col0\" class=\"data row39 col0\" >Outliers Threshold</td>\n",
       "      <td id=\"T_16755_row39_col1\" class=\"data row39 col1\" >None</td>\n",
       "    </tr>\n",
       "    <tr>\n",
       "      <th id=\"T_16755_level0_row40\" class=\"row_heading level0 row40\" >40</th>\n",
       "      <td id=\"T_16755_row40_col0\" class=\"data row40 col0\" >Remove Multicollinearity</td>\n",
       "      <td id=\"T_16755_row40_col1\" class=\"data row40 col1\" >0</td>\n",
       "    </tr>\n",
       "    <tr>\n",
       "      <th id=\"T_16755_level0_row41\" class=\"row_heading level0 row41\" >41</th>\n",
       "      <td id=\"T_16755_row41_col0\" class=\"data row41 col0\" >Multicollinearity Threshold</td>\n",
       "      <td id=\"T_16755_row41_col1\" class=\"data row41 col1\" >None</td>\n",
       "    </tr>\n",
       "    <tr>\n",
       "      <th id=\"T_16755_level0_row42\" class=\"row_heading level0 row42\" >42</th>\n",
       "      <td id=\"T_16755_row42_col0\" class=\"data row42 col0\" >Remove Perfect Collinearity</td>\n",
       "      <td id=\"T_16755_row42_col1\" class=\"data row42 col1\" >1</td>\n",
       "    </tr>\n",
       "    <tr>\n",
       "      <th id=\"T_16755_level0_row43\" class=\"row_heading level0 row43\" >43</th>\n",
       "      <td id=\"T_16755_row43_col0\" class=\"data row43 col0\" >Clustering</td>\n",
       "      <td id=\"T_16755_row43_col1\" class=\"data row43 col1\" >0</td>\n",
       "    </tr>\n",
       "    <tr>\n",
       "      <th id=\"T_16755_level0_row44\" class=\"row_heading level0 row44\" >44</th>\n",
       "      <td id=\"T_16755_row44_col0\" class=\"data row44 col0\" >Clustering Iteration</td>\n",
       "      <td id=\"T_16755_row44_col1\" class=\"data row44 col1\" >None</td>\n",
       "    </tr>\n",
       "    <tr>\n",
       "      <th id=\"T_16755_level0_row45\" class=\"row_heading level0 row45\" >45</th>\n",
       "      <td id=\"T_16755_row45_col0\" class=\"data row45 col0\" >Polynomial Features</td>\n",
       "      <td id=\"T_16755_row45_col1\" class=\"data row45 col1\" >0</td>\n",
       "    </tr>\n",
       "    <tr>\n",
       "      <th id=\"T_16755_level0_row46\" class=\"row_heading level0 row46\" >46</th>\n",
       "      <td id=\"T_16755_row46_col0\" class=\"data row46 col0\" >Polynomial Degree</td>\n",
       "      <td id=\"T_16755_row46_col1\" class=\"data row46 col1\" >None</td>\n",
       "    </tr>\n",
       "    <tr>\n",
       "      <th id=\"T_16755_level0_row47\" class=\"row_heading level0 row47\" >47</th>\n",
       "      <td id=\"T_16755_row47_col0\" class=\"data row47 col0\" >Trignometry Features</td>\n",
       "      <td id=\"T_16755_row47_col1\" class=\"data row47 col1\" >0</td>\n",
       "    </tr>\n",
       "    <tr>\n",
       "      <th id=\"T_16755_level0_row48\" class=\"row_heading level0 row48\" >48</th>\n",
       "      <td id=\"T_16755_row48_col0\" class=\"data row48 col0\" >Polynomial Threshold</td>\n",
       "      <td id=\"T_16755_row48_col1\" class=\"data row48 col1\" >None</td>\n",
       "    </tr>\n",
       "    <tr>\n",
       "      <th id=\"T_16755_level0_row49\" class=\"row_heading level0 row49\" >49</th>\n",
       "      <td id=\"T_16755_row49_col0\" class=\"data row49 col0\" >Group Features</td>\n",
       "      <td id=\"T_16755_row49_col1\" class=\"data row49 col1\" >0</td>\n",
       "    </tr>\n",
       "    <tr>\n",
       "      <th id=\"T_16755_level0_row50\" class=\"row_heading level0 row50\" >50</th>\n",
       "      <td id=\"T_16755_row50_col0\" class=\"data row50 col0\" >Feature Selection</td>\n",
       "      <td id=\"T_16755_row50_col1\" class=\"data row50 col1\" >0</td>\n",
       "    </tr>\n",
       "    <tr>\n",
       "      <th id=\"T_16755_level0_row51\" class=\"row_heading level0 row51\" >51</th>\n",
       "      <td id=\"T_16755_row51_col0\" class=\"data row51 col0\" >Feature Selection Method</td>\n",
       "      <td id=\"T_16755_row51_col1\" class=\"data row51 col1\" >classic</td>\n",
       "    </tr>\n",
       "    <tr>\n",
       "      <th id=\"T_16755_level0_row52\" class=\"row_heading level0 row52\" >52</th>\n",
       "      <td id=\"T_16755_row52_col0\" class=\"data row52 col0\" >Features Selection Threshold</td>\n",
       "      <td id=\"T_16755_row52_col1\" class=\"data row52 col1\" >None</td>\n",
       "    </tr>\n",
       "    <tr>\n",
       "      <th id=\"T_16755_level0_row53\" class=\"row_heading level0 row53\" >53</th>\n",
       "      <td id=\"T_16755_row53_col0\" class=\"data row53 col0\" >Feature Interaction</td>\n",
       "      <td id=\"T_16755_row53_col1\" class=\"data row53 col1\" >0</td>\n",
       "    </tr>\n",
       "    <tr>\n",
       "      <th id=\"T_16755_level0_row54\" class=\"row_heading level0 row54\" >54</th>\n",
       "      <td id=\"T_16755_row54_col0\" class=\"data row54 col0\" >Feature Ratio</td>\n",
       "      <td id=\"T_16755_row54_col1\" class=\"data row54 col1\" >0</td>\n",
       "    </tr>\n",
       "    <tr>\n",
       "      <th id=\"T_16755_level0_row55\" class=\"row_heading level0 row55\" >55</th>\n",
       "      <td id=\"T_16755_row55_col0\" class=\"data row55 col0\" >Interaction Threshold</td>\n",
       "      <td id=\"T_16755_row55_col1\" class=\"data row55 col1\" >None</td>\n",
       "    </tr>\n",
       "    <tr>\n",
       "      <th id=\"T_16755_level0_row56\" class=\"row_heading level0 row56\" >56</th>\n",
       "      <td id=\"T_16755_row56_col0\" class=\"data row56 col0\" >Transform Target</td>\n",
       "      <td id=\"T_16755_row56_col1\" class=\"data row56 col1\" >0</td>\n",
       "    </tr>\n",
       "    <tr>\n",
       "      <th id=\"T_16755_level0_row57\" class=\"row_heading level0 row57\" >57</th>\n",
       "      <td id=\"T_16755_row57_col0\" class=\"data row57 col0\" >Transform Target Method</td>\n",
       "      <td id=\"T_16755_row57_col1\" class=\"data row57 col1\" >box-cox</td>\n",
       "    </tr>\n",
       "  </tbody>\n",
       "</table>\n"
      ],
      "text/plain": [
       "<pandas.io.formats.style.Styler at 0x7fd82eb65400>"
      ]
     },
     "metadata": {}
    }
   ],
   "metadata": {}
  },
  {
   "cell_type": "code",
   "execution_count": 111,
   "source": [
    "best_model = compare_models(include=['lr',])"
   ],
   "outputs": [
    {
     "output_type": "display_data",
     "data": {
      "text/html": [
       "<style type=\"text/css\">\n",
       "#T_d94ee th {\n",
       "  text-align: left;\n",
       "}\n",
       "#T_d94ee_row0_col0 {\n",
       "  text-align: left;\n",
       "}\n",
       "#T_d94ee_row0_col1, #T_d94ee_row0_col2, #T_d94ee_row0_col3, #T_d94ee_row0_col4, #T_d94ee_row0_col5, #T_d94ee_row0_col6 {\n",
       "  text-align: left;\n",
       "  background-color: yellow;\n",
       "}\n",
       "#T_d94ee_row0_col7 {\n",
       "  text-align: left;\n",
       "  background-color: yellow;\n",
       "  background-color: lightgrey;\n",
       "}\n",
       "</style>\n",
       "<table id=\"T_d94ee\">\n",
       "  <thead>\n",
       "    <tr>\n",
       "      <th class=\"blank level0\" >&nbsp;</th>\n",
       "      <th id=\"T_d94ee_level0_col0\" class=\"col_heading level0 col0\" >Model</th>\n",
       "      <th id=\"T_d94ee_level0_col1\" class=\"col_heading level0 col1\" >MAE</th>\n",
       "      <th id=\"T_d94ee_level0_col2\" class=\"col_heading level0 col2\" >MSE</th>\n",
       "      <th id=\"T_d94ee_level0_col3\" class=\"col_heading level0 col3\" >RMSE</th>\n",
       "      <th id=\"T_d94ee_level0_col4\" class=\"col_heading level0 col4\" >R2</th>\n",
       "      <th id=\"T_d94ee_level0_col5\" class=\"col_heading level0 col5\" >RMSLE</th>\n",
       "      <th id=\"T_d94ee_level0_col6\" class=\"col_heading level0 col6\" >MAPE</th>\n",
       "      <th id=\"T_d94ee_level0_col7\" class=\"col_heading level0 col7\" >TT (Sec)</th>\n",
       "    </tr>\n",
       "  </thead>\n",
       "  <tbody>\n",
       "    <tr>\n",
       "      <th id=\"T_d94ee_level0_row0\" class=\"row_heading level0 row0\" >lr</th>\n",
       "      <td id=\"T_d94ee_row0_col0\" class=\"data row0 col0\" >Linear Regression</td>\n",
       "      <td id=\"T_d94ee_row0_col1\" class=\"data row0 col1\" >0.6378</td>\n",
       "      <td id=\"T_d94ee_row0_col2\" class=\"data row0 col2\" >0.6673</td>\n",
       "      <td id=\"T_d94ee_row0_col3\" class=\"data row0 col3\" >0.8169</td>\n",
       "      <td id=\"T_d94ee_row0_col4\" class=\"data row0 col4\" >-0.0003</td>\n",
       "      <td id=\"T_d94ee_row0_col5\" class=\"data row0 col5\" >0.2742</td>\n",
       "      <td id=\"T_d94ee_row0_col6\" class=\"data row0 col6\" >0.4335</td>\n",
       "      <td id=\"T_d94ee_row0_col7\" class=\"data row0 col7\" >0.8080</td>\n",
       "    </tr>\n",
       "  </tbody>\n",
       "</table>\n"
      ],
      "text/plain": [
       "<pandas.io.formats.style.Styler at 0x7fd81c49ef10>"
      ]
     },
     "metadata": {}
    }
   ],
   "metadata": {}
  },
  {
   "cell_type": "code",
   "execution_count": 113,
   "source": [
    "lr_is_best_model = tune_model(best_model)"
   ],
   "outputs": [
    {
     "output_type": "display_data",
     "data": {
      "text/html": [
       "<style type=\"text/css\">\n",
       "#T_26f98_row10_col0, #T_26f98_row10_col1, #T_26f98_row10_col2, #T_26f98_row10_col3, #T_26f98_row10_col4, #T_26f98_row10_col5 {\n",
       "  background: yellow;\n",
       "}\n",
       "</style>\n",
       "<table id=\"T_26f98\">\n",
       "  <thead>\n",
       "    <tr>\n",
       "      <th class=\"blank level0\" >&nbsp;</th>\n",
       "      <th id=\"T_26f98_level0_col0\" class=\"col_heading level0 col0\" >MAE</th>\n",
       "      <th id=\"T_26f98_level0_col1\" class=\"col_heading level0 col1\" >MSE</th>\n",
       "      <th id=\"T_26f98_level0_col2\" class=\"col_heading level0 col2\" >RMSE</th>\n",
       "      <th id=\"T_26f98_level0_col3\" class=\"col_heading level0 col3\" >R2</th>\n",
       "      <th id=\"T_26f98_level0_col4\" class=\"col_heading level0 col4\" >RMSLE</th>\n",
       "      <th id=\"T_26f98_level0_col5\" class=\"col_heading level0 col5\" >MAPE</th>\n",
       "    </tr>\n",
       "    <tr>\n",
       "      <th class=\"index_name level0\" >Fold</th>\n",
       "      <th class=\"blank col0\" >&nbsp;</th>\n",
       "      <th class=\"blank col1\" >&nbsp;</th>\n",
       "      <th class=\"blank col2\" >&nbsp;</th>\n",
       "      <th class=\"blank col3\" >&nbsp;</th>\n",
       "      <th class=\"blank col4\" >&nbsp;</th>\n",
       "      <th class=\"blank col5\" >&nbsp;</th>\n",
       "    </tr>\n",
       "  </thead>\n",
       "  <tbody>\n",
       "    <tr>\n",
       "      <th id=\"T_26f98_level0_row0\" class=\"row_heading level0 row0\" >0</th>\n",
       "      <td id=\"T_26f98_row0_col0\" class=\"data row0 col0\" >0.6401</td>\n",
       "      <td id=\"T_26f98_row0_col1\" class=\"data row0 col1\" >0.6724</td>\n",
       "      <td id=\"T_26f98_row0_col2\" class=\"data row0 col2\" >0.8200</td>\n",
       "      <td id=\"T_26f98_row0_col3\" class=\"data row0 col3\" >-0.0006</td>\n",
       "      <td id=\"T_26f98_row0_col4\" class=\"data row0 col4\" >0.2750</td>\n",
       "      <td id=\"T_26f98_row0_col5\" class=\"data row0 col5\" >0.4329</td>\n",
       "    </tr>\n",
       "    <tr>\n",
       "      <th id=\"T_26f98_level0_row1\" class=\"row_heading level0 row1\" >1</th>\n",
       "      <td id=\"T_26f98_row1_col0\" class=\"data row1 col0\" >0.6386</td>\n",
       "      <td id=\"T_26f98_row1_col1\" class=\"data row1 col1\" >0.6749</td>\n",
       "      <td id=\"T_26f98_row1_col2\" class=\"data row1 col2\" >0.8215</td>\n",
       "      <td id=\"T_26f98_row1_col3\" class=\"data row1 col3\" >-0.0003</td>\n",
       "      <td id=\"T_26f98_row1_col4\" class=\"data row1 col4\" >0.2748</td>\n",
       "      <td id=\"T_26f98_row1_col5\" class=\"data row1 col5\" >0.4336</td>\n",
       "    </tr>\n",
       "    <tr>\n",
       "      <th id=\"T_26f98_level0_row2\" class=\"row_heading level0 row2\" >2</th>\n",
       "      <td id=\"T_26f98_row2_col0\" class=\"data row2 col0\" >0.6388</td>\n",
       "      <td id=\"T_26f98_row2_col1\" class=\"data row2 col1\" >0.6698</td>\n",
       "      <td id=\"T_26f98_row2_col2\" class=\"data row2 col2\" >0.8184</td>\n",
       "      <td id=\"T_26f98_row2_col3\" class=\"data row2 col3\" >-0.0003</td>\n",
       "      <td id=\"T_26f98_row2_col4\" class=\"data row2 col4\" >0.2745</td>\n",
       "      <td id=\"T_26f98_row2_col5\" class=\"data row2 col5\" >0.4329</td>\n",
       "    </tr>\n",
       "    <tr>\n",
       "      <th id=\"T_26f98_level0_row3\" class=\"row_heading level0 row3\" >3</th>\n",
       "      <td id=\"T_26f98_row3_col0\" class=\"data row3 col0\" >0.6344</td>\n",
       "      <td id=\"T_26f98_row3_col1\" class=\"data row3 col1\" >0.6545</td>\n",
       "      <td id=\"T_26f98_row3_col2\" class=\"data row3 col2\" >0.8090</td>\n",
       "      <td id=\"T_26f98_row3_col3\" class=\"data row3 col3\" >-0.0001</td>\n",
       "      <td id=\"T_26f98_row3_col4\" class=\"data row3 col4\" >0.2728</td>\n",
       "      <td id=\"T_26f98_row3_col5\" class=\"data row3 col5\" >0.4340</td>\n",
       "    </tr>\n",
       "    <tr>\n",
       "      <th id=\"T_26f98_level0_row4\" class=\"row_heading level0 row4\" >4</th>\n",
       "      <td id=\"T_26f98_row4_col0\" class=\"data row4 col0\" >0.6352</td>\n",
       "      <td id=\"T_26f98_row4_col1\" class=\"data row4 col1\" >0.6561</td>\n",
       "      <td id=\"T_26f98_row4_col2\" class=\"data row4 col2\" >0.8100</td>\n",
       "      <td id=\"T_26f98_row4_col3\" class=\"data row4 col3\" >-0.0000</td>\n",
       "      <td id=\"T_26f98_row4_col4\" class=\"data row4 col4\" >0.2730</td>\n",
       "      <td id=\"T_26f98_row4_col5\" class=\"data row4 col5\" >0.4333</td>\n",
       "    </tr>\n",
       "    <tr>\n",
       "      <th id=\"T_26f98_level0_row5\" class=\"row_heading level0 row5\" >5</th>\n",
       "      <td id=\"T_26f98_row5_col0\" class=\"data row5 col0\" >0.6360</td>\n",
       "      <td id=\"T_26f98_row5_col1\" class=\"data row5 col1\" >0.6617</td>\n",
       "      <td id=\"T_26f98_row5_col2\" class=\"data row5 col2\" >0.8134</td>\n",
       "      <td id=\"T_26f98_row5_col3\" class=\"data row5 col3\" >-0.0002</td>\n",
       "      <td id=\"T_26f98_row5_col4\" class=\"data row5 col4\" >0.2735</td>\n",
       "      <td id=\"T_26f98_row5_col5\" class=\"data row5 col5\" >0.4338</td>\n",
       "    </tr>\n",
       "    <tr>\n",
       "      <th id=\"T_26f98_level0_row6\" class=\"row_heading level0 row6\" >6</th>\n",
       "      <td id=\"T_26f98_row6_col0\" class=\"data row6 col0\" >0.6387</td>\n",
       "      <td id=\"T_26f98_row6_col1\" class=\"data row6 col1\" >0.6708</td>\n",
       "      <td id=\"T_26f98_row6_col2\" class=\"data row6 col2\" >0.8190</td>\n",
       "      <td id=\"T_26f98_row6_col3\" class=\"data row6 col3\" >-0.0004</td>\n",
       "      <td id=\"T_26f98_row6_col4\" class=\"data row6 col4\" >0.2747</td>\n",
       "      <td id=\"T_26f98_row6_col5\" class=\"data row6 col5\" >0.4341</td>\n",
       "    </tr>\n",
       "    <tr>\n",
       "      <th id=\"T_26f98_level0_row7\" class=\"row_heading level0 row7\" >7</th>\n",
       "      <td id=\"T_26f98_row7_col0\" class=\"data row7 col0\" >0.6390</td>\n",
       "      <td id=\"T_26f98_row7_col1\" class=\"data row7 col1\" >0.6747</td>\n",
       "      <td id=\"T_26f98_row7_col2\" class=\"data row7 col2\" >0.8214</td>\n",
       "      <td id=\"T_26f98_row7_col3\" class=\"data row7 col3\" >-0.0002</td>\n",
       "      <td id=\"T_26f98_row7_col4\" class=\"data row7 col4\" >0.2749</td>\n",
       "      <td id=\"T_26f98_row7_col5\" class=\"data row7 col5\" >0.4330</td>\n",
       "    </tr>\n",
       "    <tr>\n",
       "      <th id=\"T_26f98_level0_row8\" class=\"row_heading level0 row8\" >8</th>\n",
       "      <td id=\"T_26f98_row8_col0\" class=\"data row8 col0\" >0.6391</td>\n",
       "      <td id=\"T_26f98_row8_col1\" class=\"data row8 col1\" >0.6682</td>\n",
       "      <td id=\"T_26f98_row8_col2\" class=\"data row8 col2\" >0.8174</td>\n",
       "      <td id=\"T_26f98_row8_col3\" class=\"data row8 col3\" >-0.0003</td>\n",
       "      <td id=\"T_26f98_row8_col4\" class=\"data row8 col4\" >0.2746</td>\n",
       "      <td id=\"T_26f98_row8_col5\" class=\"data row8 col5\" >0.4335</td>\n",
       "    </tr>\n",
       "    <tr>\n",
       "      <th id=\"T_26f98_level0_row9\" class=\"row_heading level0 row9\" >9</th>\n",
       "      <td id=\"T_26f98_row9_col0\" class=\"data row9 col0\" >0.6383</td>\n",
       "      <td id=\"T_26f98_row9_col1\" class=\"data row9 col1\" >0.6700</td>\n",
       "      <td id=\"T_26f98_row9_col2\" class=\"data row9 col2\" >0.8185</td>\n",
       "      <td id=\"T_26f98_row9_col3\" class=\"data row9 col3\" >-0.0002</td>\n",
       "      <td id=\"T_26f98_row9_col4\" class=\"data row9 col4\" >0.2745</td>\n",
       "      <td id=\"T_26f98_row9_col5\" class=\"data row9 col5\" >0.4338</td>\n",
       "    </tr>\n",
       "    <tr>\n",
       "      <th id=\"T_26f98_level0_row10\" class=\"row_heading level0 row10\" >Mean</th>\n",
       "      <td id=\"T_26f98_row10_col0\" class=\"data row10 col0\" >0.6378</td>\n",
       "      <td id=\"T_26f98_row10_col1\" class=\"data row10 col1\" >0.6673</td>\n",
       "      <td id=\"T_26f98_row10_col2\" class=\"data row10 col2\" >0.8169</td>\n",
       "      <td id=\"T_26f98_row10_col3\" class=\"data row10 col3\" >-0.0003</td>\n",
       "      <td id=\"T_26f98_row10_col4\" class=\"data row10 col4\" >0.2742</td>\n",
       "      <td id=\"T_26f98_row10_col5\" class=\"data row10 col5\" >0.4335</td>\n",
       "    </tr>\n",
       "    <tr>\n",
       "      <th id=\"T_26f98_level0_row11\" class=\"row_heading level0 row11\" >Std</th>\n",
       "      <td id=\"T_26f98_row11_col0\" class=\"data row11 col0\" >0.0018</td>\n",
       "      <td id=\"T_26f98_row11_col1\" class=\"data row11 col1\" >0.0070</td>\n",
       "      <td id=\"T_26f98_row11_col2\" class=\"data row11 col2\" >0.0043</td>\n",
       "      <td id=\"T_26f98_row11_col3\" class=\"data row11 col3\" >0.0002</td>\n",
       "      <td id=\"T_26f98_row11_col4\" class=\"data row11 col4\" >0.0008</td>\n",
       "      <td id=\"T_26f98_row11_col5\" class=\"data row11 col5\" >0.0004</td>\n",
       "    </tr>\n",
       "  </tbody>\n",
       "</table>\n"
      ],
      "text/plain": [
       "<pandas.io.formats.style.Styler at 0x7fd81c483a00>"
      ]
     },
     "metadata": {}
    }
   ],
   "metadata": {}
  },
  {
   "cell_type": "code",
   "execution_count": 155,
   "source": [
    "lr_is_best_model.get_params()"
   ],
   "outputs": [
    {
     "output_type": "execute_result",
     "data": {
      "text/plain": [
       "{'copy_X': True, 'fit_intercept': True, 'n_jobs': -1, 'normalize': False}"
      ]
     },
     "metadata": {},
     "execution_count": 155
    }
   ],
   "metadata": {}
  },
  {
   "cell_type": "code",
   "execution_count": 158,
   "source": [
    "evaluate_model(lr_is_best_model)"
   ],
   "outputs": [
    {
     "output_type": "display_data",
     "data": {
      "application/vnd.jupyter.widget-view+json": {
       "version_major": 2,
       "version_minor": 0,
       "model_id": "02bfd5d37eb9437e8679473fa989e94c"
      },
      "text/plain": [
       "interactive(children=(ToggleButtons(description='Plot Type:', icons=('',), options=(('Hyperparameters', 'param…"
      ]
     },
     "metadata": {}
    },
    {
     "output_type": "display_data",
     "data": {
      "application/vnd.jupyter.widget-view+json": {
       "version_major": 2,
       "version_minor": 0,
       "model_id": "0d7be6a7ca1c48cda3e2e5a5f87dc59e"
      },
      "text/plain": [
       "IntProgress(value=0, description='Processing: ', max=5)"
      ]
     },
     "metadata": {}
    }
   ],
   "metadata": {}
  },
  {
   "cell_type": "code",
   "execution_count": 114,
   "source": [
    "pred_holdout = predict_model(lr_is_best_model) # Run on the hold out test set"
   ],
   "outputs": [
    {
     "output_type": "display_data",
     "data": {
      "text/html": [
       "<style type=\"text/css\">\n",
       "</style>\n",
       "<table id=\"T_367ff\">\n",
       "  <thead>\n",
       "    <tr>\n",
       "      <th class=\"blank level0\" >&nbsp;</th>\n",
       "      <th id=\"T_367ff_level0_col0\" class=\"col_heading level0 col0\" >Model</th>\n",
       "      <th id=\"T_367ff_level0_col1\" class=\"col_heading level0 col1\" >MAE</th>\n",
       "      <th id=\"T_367ff_level0_col2\" class=\"col_heading level0 col2\" >MSE</th>\n",
       "      <th id=\"T_367ff_level0_col3\" class=\"col_heading level0 col3\" >RMSE</th>\n",
       "      <th id=\"T_367ff_level0_col4\" class=\"col_heading level0 col4\" >R2</th>\n",
       "      <th id=\"T_367ff_level0_col5\" class=\"col_heading level0 col5\" >RMSLE</th>\n",
       "      <th id=\"T_367ff_level0_col6\" class=\"col_heading level0 col6\" >MAPE</th>\n",
       "    </tr>\n",
       "  </thead>\n",
       "  <tbody>\n",
       "    <tr>\n",
       "      <th id=\"T_367ff_level0_row0\" class=\"row_heading level0 row0\" >0</th>\n",
       "      <td id=\"T_367ff_row0_col0\" class=\"data row0 col0\" >Linear Regression</td>\n",
       "      <td id=\"T_367ff_row0_col1\" class=\"data row0 col1\" >0.6360</td>\n",
       "      <td id=\"T_367ff_row0_col2\" class=\"data row0 col2\" >0.6611</td>\n",
       "      <td id=\"T_367ff_row0_col3\" class=\"data row0 col3\" >0.8131</td>\n",
       "      <td id=\"T_367ff_row0_col4\" class=\"data row0 col4\" >-0.0003</td>\n",
       "      <td id=\"T_367ff_row0_col5\" class=\"data row0 col5\" >0.2735</td>\n",
       "      <td id=\"T_367ff_row0_col6\" class=\"data row0 col6\" >0.4332</td>\n",
       "    </tr>\n",
       "  </tbody>\n",
       "</table>\n"
      ],
      "text/plain": [
       "<pandas.io.formats.style.Styler at 0x7fd7d88afc70>"
      ]
     },
     "metadata": {}
    }
   ],
   "metadata": {}
  },
  {
   "cell_type": "code",
   "execution_count": 117,
   "source": [
    "predicted_values = pred_holdout['Label']"
   ],
   "outputs": [],
   "metadata": {}
  },
  {
   "cell_type": "code",
   "execution_count": 121,
   "source": [
    "predicted_values[:10]"
   ],
   "outputs": [
    {
     "output_type": "execute_result",
     "data": {
      "text/plain": [
       "0    1.463464\n",
       "1    1.462211\n",
       "2    1.483798\n",
       "3    1.451520\n",
       "4    1.465388\n",
       "5    1.436032\n",
       "6    1.469968\n",
       "7    1.466375\n",
       "8    1.445352\n",
       "9    1.471416\n",
       "Name: Label, dtype: float32"
      ]
     },
     "metadata": {},
     "execution_count": 121
    }
   ],
   "metadata": {}
  },
  {
   "cell_type": "code",
   "execution_count": null,
   "source": [],
   "outputs": [],
   "metadata": {}
  },
  {
   "cell_type": "code",
   "execution_count": null,
   "source": [],
   "outputs": [],
   "metadata": {}
  },
  {
   "cell_type": "code",
   "execution_count": null,
   "source": [],
   "outputs": [],
   "metadata": {}
  },
  {
   "cell_type": "code",
   "execution_count": null,
   "source": [],
   "outputs": [],
   "metadata": {}
  },
  {
   "cell_type": "code",
   "execution_count": null,
   "source": [],
   "outputs": [],
   "metadata": {}
  },
  {
   "cell_type": "code",
   "execution_count": null,
   "source": [],
   "outputs": [],
   "metadata": {}
  },
  {
   "cell_type": "code",
   "execution_count": null,
   "source": [],
   "outputs": [],
   "metadata": {}
  },
  {
   "cell_type": "code",
   "execution_count": 58,
   "source": [
    "x_train, x_test, y_train, y_test = train_test_split(data_train.drop(['number_of_casualties'], axis=1), train['accident_risk_index'], )"
   ],
   "outputs": [],
   "metadata": {}
  },
  {
   "cell_type": "code",
   "execution_count": 59,
   "source": [
    "RF = RandomForestRegressor()"
   ],
   "outputs": [],
   "metadata": {}
  },
  {
   "cell_type": "code",
   "execution_count": 60,
   "source": [
    "AB = AdaBoostRegressor()\n",
    "AB.fit(x_train, y_train)"
   ],
   "outputs": [
    {
     "output_type": "execute_result",
     "data": {
      "text/plain": [
       "AdaBoostRegressor()"
      ]
     },
     "metadata": {},
     "execution_count": 60
    }
   ],
   "metadata": {}
  },
  {
   "cell_type": "code",
   "execution_count": 61,
   "source": [
    "#RF.fit(x_train, y_train)"
   ],
   "outputs": [],
   "metadata": {}
  },
  {
   "cell_type": "code",
   "execution_count": 62,
   "source": [
    "RF.score(x_test, y_test)"
   ],
   "outputs": [
    {
     "output_type": "error",
     "ename": "NotFittedError",
     "evalue": "This RandomForestRegressor instance is not fitted yet. Call 'fit' with appropriate arguments before using this estimator.",
     "traceback": [
      "\u001b[0;31m---------------------------------------------------------------------------\u001b[0m",
      "\u001b[0;31mNotFittedError\u001b[0m                            Traceback (most recent call last)",
      "Input \u001b[0;32mIn [62]\u001b[0m, in \u001b[0;36m<cell line: 1>\u001b[0;34m()\u001b[0m\n\u001b[0;32m----> 1\u001b[0m \u001b[43mRF\u001b[49m\u001b[38;5;241;43m.\u001b[39;49m\u001b[43mscore\u001b[49m\u001b[43m(\u001b[49m\u001b[43mx_test\u001b[49m\u001b[43m,\u001b[49m\u001b[43m \u001b[49m\u001b[43my_test\u001b[49m\u001b[43m)\u001b[49m\n",
      "File \u001b[0;32m~/opt/anaconda3/lib/python3.8/site-packages/sklearn/base.py:551\u001b[0m, in \u001b[0;36mRegressorMixin.score\u001b[0;34m(self, X, y, sample_weight)\u001b[0m\n\u001b[1;32m    510\u001b[0m \u001b[38;5;124;03m\"\"\"Return the coefficient of determination R^2 of the prediction.\u001b[39;00m\n\u001b[1;32m    511\u001b[0m \n\u001b[1;32m    512\u001b[0m \u001b[38;5;124;03mThe coefficient R^2 is defined as (1 - u/v), where u is the residual\u001b[39;00m\n\u001b[0;32m   (...)\u001b[0m\n\u001b[1;32m    547\u001b[0m \u001b[38;5;124;03m:class:`~sklearn.multioutput.MultiOutputRegressor`).\u001b[39;00m\n\u001b[1;32m    548\u001b[0m \u001b[38;5;124;03m\"\"\"\u001b[39;00m\n\u001b[1;32m    550\u001b[0m \u001b[38;5;28;01mfrom\u001b[39;00m \u001b[38;5;21;01m.\u001b[39;00m\u001b[38;5;21;01mmetrics\u001b[39;00m \u001b[38;5;28;01mimport\u001b[39;00m r2_score\n\u001b[0;32m--> 551\u001b[0m y_pred \u001b[38;5;241m=\u001b[39m \u001b[38;5;28;43mself\u001b[39;49m\u001b[38;5;241;43m.\u001b[39;49m\u001b[43mpredict\u001b[49m\u001b[43m(\u001b[49m\u001b[43mX\u001b[49m\u001b[43m)\u001b[49m\n\u001b[1;32m    552\u001b[0m \u001b[38;5;28;01mreturn\u001b[39;00m r2_score(y, y_pred, sample_weight\u001b[38;5;241m=\u001b[39msample_weight)\n",
      "File \u001b[0;32m~/opt/anaconda3/lib/python3.8/site-packages/sklearn/ensemble/_forest.py:781\u001b[0m, in \u001b[0;36mForestRegressor.predict\u001b[0;34m(self, X)\u001b[0m\n\u001b[1;32m    762\u001b[0m \u001b[38;5;28;01mdef\u001b[39;00m \u001b[38;5;21mpredict\u001b[39m(\u001b[38;5;28mself\u001b[39m, X):\n\u001b[1;32m    763\u001b[0m     \u001b[38;5;124;03m\"\"\"\u001b[39;00m\n\u001b[1;32m    764\u001b[0m \u001b[38;5;124;03m    Predict regression target for X.\u001b[39;00m\n\u001b[1;32m    765\u001b[0m \n\u001b[0;32m   (...)\u001b[0m\n\u001b[1;32m    779\u001b[0m \u001b[38;5;124;03m        The predicted values.\u001b[39;00m\n\u001b[1;32m    780\u001b[0m \u001b[38;5;124;03m    \"\"\"\u001b[39;00m\n\u001b[0;32m--> 781\u001b[0m     \u001b[43mcheck_is_fitted\u001b[49m\u001b[43m(\u001b[49m\u001b[38;5;28;43mself\u001b[39;49m\u001b[43m)\u001b[49m\n\u001b[1;32m    782\u001b[0m     \u001b[38;5;66;03m# Check data\u001b[39;00m\n\u001b[1;32m    783\u001b[0m     X \u001b[38;5;241m=\u001b[39m \u001b[38;5;28mself\u001b[39m\u001b[38;5;241m.\u001b[39m_validate_X_predict(X)\n",
      "File \u001b[0;32m~/opt/anaconda3/lib/python3.8/site-packages/sklearn/utils/validation.py:72\u001b[0m, in \u001b[0;36m_deprecate_positional_args.<locals>.inner_f\u001b[0;34m(*args, **kwargs)\u001b[0m\n\u001b[1;32m     67\u001b[0m     warnings\u001b[38;5;241m.\u001b[39mwarn(\u001b[38;5;124m\"\u001b[39m\u001b[38;5;124mPass \u001b[39m\u001b[38;5;132;01m{}\u001b[39;00m\u001b[38;5;124m as keyword args. From version 0.25 \u001b[39m\u001b[38;5;124m\"\u001b[39m\n\u001b[1;32m     68\u001b[0m                   \u001b[38;5;124m\"\u001b[39m\u001b[38;5;124mpassing these as positional arguments will \u001b[39m\u001b[38;5;124m\"\u001b[39m\n\u001b[1;32m     69\u001b[0m                   \u001b[38;5;124m\"\u001b[39m\u001b[38;5;124mresult in an error\u001b[39m\u001b[38;5;124m\"\u001b[39m\u001b[38;5;241m.\u001b[39mformat(\u001b[38;5;124m\"\u001b[39m\u001b[38;5;124m, \u001b[39m\u001b[38;5;124m\"\u001b[39m\u001b[38;5;241m.\u001b[39mjoin(args_msg)),\n\u001b[1;32m     70\u001b[0m                   \u001b[38;5;167;01mFutureWarning\u001b[39;00m)\n\u001b[1;32m     71\u001b[0m kwargs\u001b[38;5;241m.\u001b[39mupdate({k: arg \u001b[38;5;28;01mfor\u001b[39;00m k, arg \u001b[38;5;129;01min\u001b[39;00m \u001b[38;5;28mzip\u001b[39m(sig\u001b[38;5;241m.\u001b[39mparameters, args)})\n\u001b[0;32m---> 72\u001b[0m \u001b[38;5;28;01mreturn\u001b[39;00m \u001b[43mf\u001b[49m\u001b[43m(\u001b[49m\u001b[38;5;241;43m*\u001b[39;49m\u001b[38;5;241;43m*\u001b[39;49m\u001b[43mkwargs\u001b[49m\u001b[43m)\u001b[49m\n",
      "File \u001b[0;32m~/opt/anaconda3/lib/python3.8/site-packages/sklearn/utils/validation.py:1019\u001b[0m, in \u001b[0;36mcheck_is_fitted\u001b[0;34m(estimator, attributes, msg, all_or_any)\u001b[0m\n\u001b[1;32m   1015\u001b[0m     attrs \u001b[38;5;241m=\u001b[39m [v \u001b[38;5;28;01mfor\u001b[39;00m v \u001b[38;5;129;01min\u001b[39;00m \u001b[38;5;28mvars\u001b[39m(estimator)\n\u001b[1;32m   1016\u001b[0m              \u001b[38;5;28;01mif\u001b[39;00m v\u001b[38;5;241m.\u001b[39mendswith(\u001b[38;5;124m\"\u001b[39m\u001b[38;5;124m_\u001b[39m\u001b[38;5;124m\"\u001b[39m) \u001b[38;5;129;01mand\u001b[39;00m \u001b[38;5;129;01mnot\u001b[39;00m v\u001b[38;5;241m.\u001b[39mstartswith(\u001b[38;5;124m\"\u001b[39m\u001b[38;5;124m__\u001b[39m\u001b[38;5;124m\"\u001b[39m)]\n\u001b[1;32m   1018\u001b[0m \u001b[38;5;28;01mif\u001b[39;00m \u001b[38;5;129;01mnot\u001b[39;00m attrs:\n\u001b[0;32m-> 1019\u001b[0m     \u001b[38;5;28;01mraise\u001b[39;00m NotFittedError(msg \u001b[38;5;241m%\u001b[39m {\u001b[38;5;124m'\u001b[39m\u001b[38;5;124mname\u001b[39m\u001b[38;5;124m'\u001b[39m: \u001b[38;5;28mtype\u001b[39m(estimator)\u001b[38;5;241m.\u001b[39m\u001b[38;5;18m__name__\u001b[39m})\n",
      "\u001b[0;31mNotFittedError\u001b[0m: This RandomForestRegressor instance is not fitted yet. Call 'fit' with appropriate arguments before using this estimator."
     ]
    }
   ],
   "metadata": {}
  },
  {
   "cell_type": "code",
   "execution_count": null,
   "source": [
    "LR = LinearRegression()\n",
    "LR.fit(x_train, y_train)"
   ],
   "outputs": [
    {
     "output_type": "execute_result",
     "data": {
      "text/plain": [
       "LinearRegression()"
      ]
     },
     "metadata": {},
     "execution_count": 127
    }
   ],
   "metadata": {}
  },
  {
   "cell_type": "code",
   "execution_count": null,
   "source": [
    "LR.score(x_test, y_test)"
   ],
   "outputs": [
    {
     "output_type": "execute_result",
     "data": {
      "text/plain": [
       "-5.7055427601149233e-05"
      ]
     },
     "metadata": {},
     "execution_count": 128
    }
   ],
   "metadata": {}
  },
  {
   "cell_type": "code",
   "execution_count": null,
   "source": [
    "test_data.isnull().sum()"
   ],
   "outputs": [
    {
     "output_type": "execute_result",
     "data": {
      "text/plain": [
       "accident_id                                     0\n",
       "police_force                                    0\n",
       "number_of_vehicles                              0\n",
       "number_of_casualties                            0\n",
       "date                                            0\n",
       "day_of_week                                     0\n",
       "time                                            1\n",
       "local_authority_district_                       0\n",
       "local_authority_highway_                        0\n",
       "1st_road_class                                  0\n",
       "1st_road_number                                 0\n",
       "road_type                                       0\n",
       "speed_limit                                     0\n",
       "2nd_road_class                                  0\n",
       "2nd_road_number                                 0\n",
       "pedestrian_crossing_human_control               0\n",
       "pedestrian_crossing_physical_facilities         0\n",
       "light_conditions                                0\n",
       "weather_conditions                              0\n",
       "road_surface_conditions                        39\n",
       "special_conditions_at_site                     10\n",
       "carriageway_hazards                             0\n",
       "urban_or_rural_area                             0\n",
       "did_police_officer_attend_scene_of_accident     0\n",
       "state                                           0\n",
       "postcode                                        0\n",
       "country                                         0\n",
       "dtype: int64"
      ]
     },
     "metadata": {},
     "execution_count": 129
    }
   ],
   "metadata": {}
  },
  {
   "cell_type": "code",
   "execution_count": null,
   "source": [
    "for col in cols_missing_values:\n",
    "    test_data=test_data.apply(lambda col:fillna(col))"
   ],
   "outputs": [],
   "metadata": {}
  },
  {
   "cell_type": "code",
   "execution_count": null,
   "source": [
    "test_data['time_cat'] = test_data['time'].apply(when_was_it)"
   ],
   "outputs": [],
   "metadata": {}
  },
  {
   "cell_type": "code",
   "execution_count": null,
   "source": [
    "test_data[cat_cols2]"
   ],
   "outputs": [
    {
     "output_type": "execute_result",
     "data": {
      "text/html": [
       "<div>\n",
       "<style scoped>\n",
       "    .dataframe tbody tr th:only-of-type {\n",
       "        vertical-align: middle;\n",
       "    }\n",
       "\n",
       "    .dataframe tbody tr th {\n",
       "        vertical-align: top;\n",
       "    }\n",
       "\n",
       "    .dataframe thead th {\n",
       "        text-align: right;\n",
       "    }\n",
       "</style>\n",
       "<table border=\"1\" class=\"dataframe\">\n",
       "  <thead>\n",
       "    <tr style=\"text-align: right;\">\n",
       "      <th></th>\n",
       "      <th>number_of_vehicles</th>\n",
       "      <th>day_of_week</th>\n",
       "      <th>1st_road_class</th>\n",
       "      <th>1st_road_number</th>\n",
       "      <th>road_type</th>\n",
       "      <th>speed_limit</th>\n",
       "      <th>2nd_road_class</th>\n",
       "      <th>2nd_road_number</th>\n",
       "      <th>pedestrian_crossing_human_control</th>\n",
       "      <th>pedestrian_crossing_physical_facilities</th>\n",
       "      <th>...</th>\n",
       "      <th>weather_conditions</th>\n",
       "      <th>road_surface_conditions</th>\n",
       "      <th>special_conditions_at_site</th>\n",
       "      <th>carriageway_hazards</th>\n",
       "      <th>urban_or_rural_area</th>\n",
       "      <th>did_police_officer_attend_scene_of_accident</th>\n",
       "      <th>state</th>\n",
       "      <th>postcode</th>\n",
       "      <th>country</th>\n",
       "      <th>time_cat</th>\n",
       "    </tr>\n",
       "  </thead>\n",
       "  <tbody>\n",
       "    <tr>\n",
       "      <th>0</th>\n",
       "      <td>2</td>\n",
       "      <td>6</td>\n",
       "      <td>4</td>\n",
       "      <td>6358</td>\n",
       "      <td>Single carriageway</td>\n",
       "      <td>60</td>\n",
       "      <td>6</td>\n",
       "      <td>0</td>\n",
       "      <td>None within 50 metres</td>\n",
       "      <td>No physical crossing within 50 meters</td>\n",
       "      <td>...</td>\n",
       "      <td>Snowing without high winds</td>\n",
       "      <td>Dry</td>\n",
       "      <td>None</td>\n",
       "      <td>None</td>\n",
       "      <td>2</td>\n",
       "      <td>Yes</td>\n",
       "      <td>England</td>\n",
       "      <td>HX2 8WH</td>\n",
       "      <td>United Kingdom</td>\n",
       "      <td>2</td>\n",
       "    </tr>\n",
       "    <tr>\n",
       "      <th>1</th>\n",
       "      <td>2</td>\n",
       "      <td>7</td>\n",
       "      <td>6</td>\n",
       "      <td>29</td>\n",
       "      <td>Single carriageway</td>\n",
       "      <td>30</td>\n",
       "      <td>-1</td>\n",
       "      <td>0</td>\n",
       "      <td>None within 50 metres</td>\n",
       "      <td>No physical crossing within 50 meters</td>\n",
       "      <td>...</td>\n",
       "      <td>Fine without high winds</td>\n",
       "      <td>Dry</td>\n",
       "      <td>None</td>\n",
       "      <td>None</td>\n",
       "      <td>1</td>\n",
       "      <td>No</td>\n",
       "      <td>England</td>\n",
       "      <td>RM8 1DD</td>\n",
       "      <td>United Kingdom</td>\n",
       "      <td>1</td>\n",
       "    </tr>\n",
       "    <tr>\n",
       "      <th>2</th>\n",
       "      <td>2</td>\n",
       "      <td>3</td>\n",
       "      <td>3</td>\n",
       "      <td>5376</td>\n",
       "      <td>Roundabout</td>\n",
       "      <td>40</td>\n",
       "      <td>3</td>\n",
       "      <td>0</td>\n",
       "      <td>None within 50 metres</td>\n",
       "      <td>No physical crossing within 50 meters</td>\n",
       "      <td>...</td>\n",
       "      <td>Fine without high winds</td>\n",
       "      <td>Wet/Damp</td>\n",
       "      <td>None</td>\n",
       "      <td>None</td>\n",
       "      <td>1</td>\n",
       "      <td>Yes</td>\n",
       "      <td>England</td>\n",
       "      <td>SE23 1NH</td>\n",
       "      <td>United Kingdom</td>\n",
       "      <td>4</td>\n",
       "    </tr>\n",
       "    <tr>\n",
       "      <th>3</th>\n",
       "      <td>2</td>\n",
       "      <td>4</td>\n",
       "      <td>4</td>\n",
       "      <td>1252</td>\n",
       "      <td>Single carriageway</td>\n",
       "      <td>30</td>\n",
       "      <td>-1</td>\n",
       "      <td>0</td>\n",
       "      <td>None within 50 metres</td>\n",
       "      <td>No physical crossing within 50 meters</td>\n",
       "      <td>...</td>\n",
       "      <td>Fine without high winds</td>\n",
       "      <td>Dry</td>\n",
       "      <td>None</td>\n",
       "      <td>None</td>\n",
       "      <td>1</td>\n",
       "      <td>Yes</td>\n",
       "      <td>England</td>\n",
       "      <td>HU10 7QS</td>\n",
       "      <td>United Kingdom</td>\n",
       "      <td>1</td>\n",
       "    </tr>\n",
       "    <tr>\n",
       "      <th>4</th>\n",
       "      <td>2</td>\n",
       "      <td>1</td>\n",
       "      <td>4</td>\n",
       "      <td>1202</td>\n",
       "      <td>Single carriageway</td>\n",
       "      <td>30</td>\n",
       "      <td>3</td>\n",
       "      <td>0</td>\n",
       "      <td>None within 50 metres</td>\n",
       "      <td>No physical crossing within 50 meters</td>\n",
       "      <td>...</td>\n",
       "      <td>Fine without high winds</td>\n",
       "      <td>Dry</td>\n",
       "      <td>None</td>\n",
       "      <td>None</td>\n",
       "      <td>1</td>\n",
       "      <td>Yes</td>\n",
       "      <td>England</td>\n",
       "      <td>BD23 5JL</td>\n",
       "      <td>United Kingdom</td>\n",
       "      <td>2</td>\n",
       "    </tr>\n",
       "    <tr>\n",
       "      <th>...</th>\n",
       "      <td>...</td>\n",
       "      <td>...</td>\n",
       "      <td>...</td>\n",
       "      <td>...</td>\n",
       "      <td>...</td>\n",
       "      <td>...</td>\n",
       "      <td>...</td>\n",
       "      <td>...</td>\n",
       "      <td>...</td>\n",
       "      <td>...</td>\n",
       "      <td>...</td>\n",
       "      <td>...</td>\n",
       "      <td>...</td>\n",
       "      <td>...</td>\n",
       "      <td>...</td>\n",
       "      <td>...</td>\n",
       "      <td>...</td>\n",
       "      <td>...</td>\n",
       "      <td>...</td>\n",
       "      <td>...</td>\n",
       "      <td>...</td>\n",
       "    </tr>\n",
       "    <tr>\n",
       "      <th>121254</th>\n",
       "      <td>2</td>\n",
       "      <td>5</td>\n",
       "      <td>6</td>\n",
       "      <td>0</td>\n",
       "      <td>Single carriageway</td>\n",
       "      <td>30</td>\n",
       "      <td>3</td>\n",
       "      <td>0</td>\n",
       "      <td>None within 50 metres</td>\n",
       "      <td>No physical crossing within 50 meters</td>\n",
       "      <td>...</td>\n",
       "      <td>Fine without high winds</td>\n",
       "      <td>Wet/Damp</td>\n",
       "      <td>None</td>\n",
       "      <td>None</td>\n",
       "      <td>1</td>\n",
       "      <td>Yes</td>\n",
       "      <td>England</td>\n",
       "      <td>HD9 4AB</td>\n",
       "      <td>United Kingdom</td>\n",
       "      <td>3</td>\n",
       "    </tr>\n",
       "    <tr>\n",
       "      <th>121255</th>\n",
       "      <td>2</td>\n",
       "      <td>6</td>\n",
       "      <td>3</td>\n",
       "      <td>379</td>\n",
       "      <td>Dual carriageway</td>\n",
       "      <td>30</td>\n",
       "      <td>6</td>\n",
       "      <td>0</td>\n",
       "      <td>None within 50 metres</td>\n",
       "      <td>No physical crossing within 50 meters</td>\n",
       "      <td>...</td>\n",
       "      <td>Raining without high winds</td>\n",
       "      <td>Wet/Damp</td>\n",
       "      <td>None</td>\n",
       "      <td>None</td>\n",
       "      <td>1</td>\n",
       "      <td>Yes</td>\n",
       "      <td>Alba / Scotland</td>\n",
       "      <td>AL2 1FS</td>\n",
       "      <td>United Kingdom</td>\n",
       "      <td>1</td>\n",
       "    </tr>\n",
       "    <tr>\n",
       "      <th>121256</th>\n",
       "      <td>2</td>\n",
       "      <td>6</td>\n",
       "      <td>3</td>\n",
       "      <td>19</td>\n",
       "      <td>Dual carriageway</td>\n",
       "      <td>40</td>\n",
       "      <td>5</td>\n",
       "      <td>0</td>\n",
       "      <td>None within 50 metres</td>\n",
       "      <td>No physical crossing within 50 meters</td>\n",
       "      <td>...</td>\n",
       "      <td>Fine without high winds</td>\n",
       "      <td>Dry</td>\n",
       "      <td>Roadworks</td>\n",
       "      <td>None</td>\n",
       "      <td>2</td>\n",
       "      <td>Yes</td>\n",
       "      <td>England</td>\n",
       "      <td>BN3 3WA</td>\n",
       "      <td>United Kingdom</td>\n",
       "      <td>1</td>\n",
       "    </tr>\n",
       "    <tr>\n",
       "      <th>121257</th>\n",
       "      <td>2</td>\n",
       "      <td>5</td>\n",
       "      <td>6</td>\n",
       "      <td>13</td>\n",
       "      <td>Single carriageway</td>\n",
       "      <td>30</td>\n",
       "      <td>6</td>\n",
       "      <td>0</td>\n",
       "      <td>None within 50 metres</td>\n",
       "      <td>No physical crossing within 50 meters</td>\n",
       "      <td>...</td>\n",
       "      <td>Fine without high winds</td>\n",
       "      <td>Wet/Damp</td>\n",
       "      <td>Roadworks</td>\n",
       "      <td>None</td>\n",
       "      <td>1</td>\n",
       "      <td>Yes</td>\n",
       "      <td>England</td>\n",
       "      <td>DL14 8HH</td>\n",
       "      <td>United Kingdom</td>\n",
       "      <td>4</td>\n",
       "    </tr>\n",
       "    <tr>\n",
       "      <th>121258</th>\n",
       "      <td>2</td>\n",
       "      <td>2</td>\n",
       "      <td>5</td>\n",
       "      <td>13</td>\n",
       "      <td>Single carriageway</td>\n",
       "      <td>30</td>\n",
       "      <td>6</td>\n",
       "      <td>0</td>\n",
       "      <td>Control by other authorised person</td>\n",
       "      <td>Central refuge</td>\n",
       "      <td>...</td>\n",
       "      <td>Fine without high winds</td>\n",
       "      <td>Wet/Damp</td>\n",
       "      <td>Roadworks</td>\n",
       "      <td>None</td>\n",
       "      <td>1</td>\n",
       "      <td>Yes</td>\n",
       "      <td>England</td>\n",
       "      <td>E14 8JT</td>\n",
       "      <td>United Kingdom</td>\n",
       "      <td>2</td>\n",
       "    </tr>\n",
       "  </tbody>\n",
       "</table>\n",
       "<p>121259 rows × 21 columns</p>\n",
       "</div>"
      ],
      "text/plain": [
       "        number_of_vehicles  day_of_week  1st_road_class  1st_road_number  \\\n",
       "0                        2            6               4             6358   \n",
       "1                        2            7               6               29   \n",
       "2                        2            3               3             5376   \n",
       "3                        2            4               4             1252   \n",
       "4                        2            1               4             1202   \n",
       "...                    ...          ...             ...              ...   \n",
       "121254                   2            5               6                0   \n",
       "121255                   2            6               3              379   \n",
       "121256                   2            6               3               19   \n",
       "121257                   2            5               6               13   \n",
       "121258                   2            2               5               13   \n",
       "\n",
       "                 road_type  speed_limit  2nd_road_class  2nd_road_number  \\\n",
       "0       Single carriageway           60               6                0   \n",
       "1       Single carriageway           30              -1                0   \n",
       "2               Roundabout           40               3                0   \n",
       "3       Single carriageway           30              -1                0   \n",
       "4       Single carriageway           30               3                0   \n",
       "...                    ...          ...             ...              ...   \n",
       "121254  Single carriageway           30               3                0   \n",
       "121255    Dual carriageway           30               6                0   \n",
       "121256    Dual carriageway           40               5                0   \n",
       "121257  Single carriageway           30               6                0   \n",
       "121258  Single carriageway           30               6                0   \n",
       "\n",
       "         pedestrian_crossing_human_control  \\\n",
       "0                    None within 50 metres   \n",
       "1                    None within 50 metres   \n",
       "2                    None within 50 metres   \n",
       "3                    None within 50 metres   \n",
       "4                    None within 50 metres   \n",
       "...                                    ...   \n",
       "121254               None within 50 metres   \n",
       "121255               None within 50 metres   \n",
       "121256               None within 50 metres   \n",
       "121257               None within 50 metres   \n",
       "121258  Control by other authorised person   \n",
       "\n",
       "       pedestrian_crossing_physical_facilities  ...  \\\n",
       "0        No physical crossing within 50 meters  ...   \n",
       "1        No physical crossing within 50 meters  ...   \n",
       "2        No physical crossing within 50 meters  ...   \n",
       "3        No physical crossing within 50 meters  ...   \n",
       "4        No physical crossing within 50 meters  ...   \n",
       "...                                        ...  ...   \n",
       "121254   No physical crossing within 50 meters  ...   \n",
       "121255   No physical crossing within 50 meters  ...   \n",
       "121256   No physical crossing within 50 meters  ...   \n",
       "121257   No physical crossing within 50 meters  ...   \n",
       "121258                          Central refuge  ...   \n",
       "\n",
       "                weather_conditions road_surface_conditions  \\\n",
       "0       Snowing without high winds                     Dry   \n",
       "1          Fine without high winds                     Dry   \n",
       "2          Fine without high winds                Wet/Damp   \n",
       "3          Fine without high winds                     Dry   \n",
       "4          Fine without high winds                     Dry   \n",
       "...                            ...                     ...   \n",
       "121254     Fine without high winds                Wet/Damp   \n",
       "121255  Raining without high winds                Wet/Damp   \n",
       "121256     Fine without high winds                     Dry   \n",
       "121257     Fine without high winds                Wet/Damp   \n",
       "121258     Fine without high winds                Wet/Damp   \n",
       "\n",
       "       special_conditions_at_site carriageway_hazards urban_or_rural_area  \\\n",
       "0                            None                None                   2   \n",
       "1                            None                None                   1   \n",
       "2                            None                None                   1   \n",
       "3                            None                None                   1   \n",
       "4                            None                None                   1   \n",
       "...                           ...                 ...                 ...   \n",
       "121254                       None                None                   1   \n",
       "121255                       None                None                   1   \n",
       "121256                  Roadworks                None                   2   \n",
       "121257                  Roadworks                None                   1   \n",
       "121258                  Roadworks                None                   1   \n",
       "\n",
       "        did_police_officer_attend_scene_of_accident            state  \\\n",
       "0                                               Yes          England   \n",
       "1                                                No          England   \n",
       "2                                               Yes          England   \n",
       "3                                               Yes          England   \n",
       "4                                               Yes          England   \n",
       "...                                             ...              ...   \n",
       "121254                                          Yes          England   \n",
       "121255                                          Yes  Alba / Scotland   \n",
       "121256                                          Yes          England   \n",
       "121257                                          Yes          England   \n",
       "121258                                          Yes          England   \n",
       "\n",
       "        postcode         country time_cat  \n",
       "0        HX2 8WH  United Kingdom        2  \n",
       "1        RM8 1DD  United Kingdom        1  \n",
       "2       SE23 1NH  United Kingdom        4  \n",
       "3       HU10 7QS  United Kingdom        1  \n",
       "4       BD23 5JL  United Kingdom        2  \n",
       "...          ...             ...      ...  \n",
       "121254   HD9 4AB  United Kingdom        3  \n",
       "121255   AL2 1FS  United Kingdom        1  \n",
       "121256   BN3 3WA  United Kingdom        1  \n",
       "121257  DL14 8HH  United Kingdom        4  \n",
       "121258   E14 8JT  United Kingdom        2  \n",
       "\n",
       "[121259 rows x 21 columns]"
      ]
     },
     "metadata": {},
     "execution_count": 132
    }
   ],
   "metadata": {}
  },
  {
   "cell_type": "code",
   "execution_count": null,
   "source": [
    "for column in cat_cols2:\n",
    "    #print(column)\n",
    "    test_data[column] = le.fit_transform(test_data[column])"
   ],
   "outputs": [],
   "metadata": {}
  },
  {
   "cell_type": "code",
   "execution_count": null,
   "source": [],
   "outputs": [],
   "metadata": {}
  },
  {
   "cell_type": "code",
   "execution_count": null,
   "source": [
    "RF.predict(test_data[cat_cols2 + num_col])"
   ],
   "outputs": [
    {
     "output_type": "execute_result",
     "data": {
      "text/plain": [
       "array([0.93634529, 0.864208  , 0.8140066 , ..., 0.93967926, 0.67040799,\n",
       "       0.6684165 ])"
      ]
     },
     "metadata": {},
     "execution_count": 134
    }
   ],
   "metadata": {}
  },
  {
   "cell_type": "code",
   "execution_count": null,
   "source": [
    "sub = pd.read_csv('/Users/virajdatt/Desktop/github/public/Machine-Hack-/Predict-accident-risk-score-for-unique-postcode/data/sample_submission.csv')"
   ],
   "outputs": [],
   "metadata": {}
  },
  {
   "cell_type": "code",
   "execution_count": null,
   "source": [
    "test_data['Accident_risk_index'] = RF.predict(test_data[cat_cols2 + num_col])"
   ],
   "outputs": [],
   "metadata": {}
  },
  {
   "cell_type": "code",
   "execution_count": null,
   "source": [
    "test_data[['postcode', 'Accident_risk_index', ]].to_csv('sub1.csv', index=False)"
   ],
   "outputs": [],
   "metadata": {}
  },
  {
   "cell_type": "code",
   "execution_count": null,
   "source": [
    "len(raw_data)"
   ],
   "outputs": [
    {
     "output_type": "execute_result",
     "data": {
      "text/plain": [
       "478741"
      ]
     },
     "metadata": {},
     "execution_count": 142
    }
   ],
   "metadata": {}
  },
  {
   "cell_type": "code",
   "execution_count": null,
   "source": [
    "len(sub)"
   ],
   "outputs": [
    {
     "output_type": "execute_result",
     "data": {
      "text/plain": [
       "49772"
      ]
     },
     "metadata": {},
     "execution_count": 143
    }
   ],
   "metadata": {}
  },
  {
   "cell_type": "code",
   "execution_count": null,
   "source": [
    "len(test_data)"
   ],
   "outputs": [
    {
     "output_type": "execute_result",
     "data": {
      "text/plain": [
       "121259"
      ]
     },
     "metadata": {},
     "execution_count": 144
    }
   ],
   "metadata": {}
  },
  {
   "cell_type": "code",
   "execution_count": null,
   "source": [
    "test_data['Accident_risk_index'] = AB.predict(test_data[cat_cols2 + num_col]) \n",
    "grouped_test = test_data.groupby('postcode')\n",
    "agger = {'Accident_risk_index':np.mean}\n",
    "averaged = grouped_test['Accident_risk_index'].apply(np.mean)\n",
    "new_df = averaged.reset_index()\n",
    "sub['Accident_risk_index'] = new_df['Accident_risk_index']\n",
    "sub.to_csv('sub3.csv', index=False)"
   ],
   "outputs": [],
   "metadata": {}
  },
  {
   "cell_type": "code",
   "execution_count": null,
   "source": [
    "sns.heatmap(raw_data[['police_force', 'local_authority_district_']].corr())"
   ],
   "outputs": [
    {
     "output_type": "execute_result",
     "data": {
      "text/plain": [
       "<AxesSubplot:>"
      ]
     },
     "metadata": {},
     "execution_count": 19
    },
    {
     "output_type": "display_data",
     "data": {
      "image/png": "[encoded data removed]",
      "text/plain": [
       "<Figure size 432x288 with 2 Axes>"
      ]
     },
     "metadata": {
      "needs_background": "light"
     }
    }
   ],
   "metadata": {}
  },
  {
   "cell_type": "code",
   "execution_count": null,
   "source": [
    "raw_data[['police_force', 'local_authority_district_']].corr()"
   ],
   "outputs": [
    {
     "output_type": "execute_result",
     "data": {
      "text/html": [
       "<div>\n",
       "<style scoped>\n",
       "    .dataframe tbody tr th:only-of-type {\n",
       "        vertical-align: middle;\n",
       "    }\n",
       "\n",
       "    .dataframe tbody tr th {\n",
       "        vertical-align: top;\n",
       "    }\n",
       "\n",
       "    .dataframe thead th {\n",
       "        text-align: right;\n",
       "    }\n",
       "</style>\n",
       "<table border=\"1\" class=\"dataframe\">\n",
       "  <thead>\n",
       "    <tr style=\"text-align: right;\">\n",
       "      <th></th>\n",
       "      <th>police_force</th>\n",
       "      <th>local_authority_district_</th>\n",
       "    </tr>\n",
       "  </thead>\n",
       "  <tbody>\n",
       "    <tr>\n",
       "      <th>police_force</th>\n",
       "      <td>1.000000</td>\n",
       "      <td>0.775673</td>\n",
       "    </tr>\n",
       "    <tr>\n",
       "      <th>local_authority_district_</th>\n",
       "      <td>0.775673</td>\n",
       "      <td>1.000000</td>\n",
       "    </tr>\n",
       "  </tbody>\n",
       "</table>\n",
       "</div>"
      ],
      "text/plain": [
       "                           police_force  local_authority_district_\n",
       "police_force                   1.000000                   0.775673\n",
       "local_authority_district_      0.775673                   1.000000"
      ]
     },
     "metadata": {},
     "execution_count": 20
    }
   ],
   "metadata": {}
  },
  {
   "cell_type": "code",
   "execution_count": null,
   "source": [],
   "outputs": [],
   "metadata": {}
  },
  {
   "cell_type": "code",
   "execution_count": null,
   "source": [],
   "outputs": [],
   "metadata": {}
  }
 ],
 "metadata": {
  "orig_nbformat": 4,
  "language_info": {
   "name": "python",
   "version": "3.8.8",
   "mimetype": "text/x-python",
   "codemirror_mode": {
    "name": "ipython",
    "version": 3
   },
   "pygments_lexer": "ipython3",
   "nbconvert_exporter": "python",
   "file_extension": ".py"
  },
  "kernelspec": {
   "name": "python3",
   "display_name": "Python 3.8.8 64-bit (conda)"
  },
  "interpreter": {
   "hash": "78626e5cb14307b2371f3946c1caa5bbc168a9eda33df78f60dc6faeb16eeee6"
  }
 },
 "nbformat": 4,
 "nbformat_minor": 2
}